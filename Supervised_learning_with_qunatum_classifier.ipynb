{
 "cells": [
  {
   "cell_type": "code",
   "execution_count": 433,
   "id": "sublime-filter",
   "metadata": {},
   "outputs": [],
   "source": [
    "import gzip\n",
    "from tensorflow.keras.utils import to_categorical"
   ]
  },
  {
   "cell_type": "code",
   "execution_count": 434,
   "id": "organized-system",
   "metadata": {},
   "outputs": [],
   "source": [
    "# Useful additional packages\n",
    "import matplotlib.pyplot as plt\n",
    "%matplotlib inline\n",
    "import numpy as np\n",
    "from math import pi"
   ]
  },
  {
   "cell_type": "code",
   "execution_count": 435,
   "id": "differential-roulette",
   "metadata": {},
   "outputs": [],
   "source": [
    "from qiskit import QuantumCircuit, ClassicalRegister, QuantumRegister, execute\n",
    "from qiskit.tools.visualization import circuit_drawer\n",
    "from qiskit.quantum_info import state_fidelity\n",
    "from qiskit import  Aer, transpile, IBMQ, assemble\n",
    "from qiskit.circuit.library import CHGate\n",
    "from qiskit.quantum_info.operators import Operator\n",
    "from qiskit.aqua.operators import PrimitiveOp, CircuitStateFn\n",
    "from qiskit.aqua.operators.primitive_ops import MatrixOp\n",
    "from qiskit.aqua.operators.converters import CircuitSampler\n",
    "from qiskit.aqua.operators.expectations import MatrixExpectation\n",
    "from qiskit.aqua.operators.list_ops import ComposedOp\n",
    "from qiskit.aqua.operators import Zero"
   ]
  },
  {
   "cell_type": "code",
   "execution_count": 148,
   "id": "vulnerable-intent",
   "metadata": {},
   "outputs": [
    {
     "name": "stderr",
     "output_type": "stream",
     "text": [
      "ibmqfactory.load_account:WARNING:2021-04-20 14:28:36,801: Credentials are already in use. The existing account in the session will be replaced.\n"
     ]
    }
   ],
   "source": [
    "provider = IBMQ.load_account()"
   ]
  },
  {
   "cell_type": "code",
   "execution_count": 436,
   "id": "prescription-series",
   "metadata": {},
   "outputs": [
    {
     "name": "stdout",
     "output_type": "stream",
     "text": [
      "[QasmSimulator(\n",
      "backend_name='qasm_simulator', provider=AerProvider()), StatevectorSimulator(\n",
      "backend_name='statevector_simulator', provider=AerProvider()), UnitarySimulator(\n",
      "backend_name='unitary_simulator', provider=AerProvider()), PulseSimulator(\n",
      "backend_name='pulse_simulator', provider=AerProvider())]\n"
     ]
    }
   ],
   "source": [
    "print(Aer.backends())\n",
    "simulator = Aer.get_backend(\"statevector_simulator\")\n",
    "# simulator.set_option(method=)\n",
    "my_sampler = CircuitSampler(backend=simulator, attach_results=True, param_qobj=False)  # read up on this more\n",
    "my_expectation = MatrixExpectation()"
   ]
  },
  {
   "cell_type": "code",
   "execution_count": 437,
   "id": "desirable-identity",
   "metadata": {},
   "outputs": [],
   "source": [
    "# EMNIST decoder\n",
    "\n",
    "decoder = \"0123456789ABCDEFGHIJKLMNOPQRSTUVWXYZabcdefghijklmnopqrstuvwxyz\""
   ]
  },
  {
   "cell_type": "code",
   "execution_count": 438,
   "id": "instrumental-latter",
   "metadata": {},
   "outputs": [],
   "source": [
    "images_raw = gzip.open(\"data/EMNIST/gzip/emnist-balanced-train-images-idx3-ubyte.gz\", \"r\")\n",
    "labels_raw = gzip.open(\"data/EMNIST/gzip/emnist-balanced-train-labels-idx1-ubyte.gz\")\n",
    "\n",
    "\n",
    "image_size = 28\n",
    "num_images = 512 # how many images per batch\n",
    "\n",
    "images_raw.read(16) # reads the data type\n",
    "labels_raw.read(8) # reads the data type\n",
    "\n",
    "def get_data(images, labels):\n",
    "    buf_images = images.read(image_size * image_size * num_images)\n",
    "    images = np.frombuffer(buf_images, dtype=np.uint8).astype(np.float32)\n",
    "    images = images.reshape(num_images, image_size, image_size, 1)\n",
    "    \n",
    "    buf_labels = labels.read(num_images)\n",
    "    labels = np.frombuffer(buf_labels, dtype=np.uint8).astype(np.int32)\n",
    "    \n",
    "    return images, labels"
   ]
  },
  {
   "cell_type": "code",
   "execution_count": 439,
   "id": "hired-pakistan",
   "metadata": {
    "scrolled": true
   },
   "outputs": [
    {
     "data": {
      "image/png": "[encoded data removed]",
      "text/plain": [
       "<Figure size 432x288 with 1 Axes>"
      ]
     },
     "metadata": {
      "needs_background": "light"
     },
     "output_type": "display_data"
    },
    {
     "name": "stdout",
     "output_type": "stream",
     "text": [
      "0\n"
     ]
    }
   ],
   "source": [
    "# print images\n",
    "data = get_data(images_raw, labels_raw)\n",
    "\n",
    "images = data[0]\n",
    "labels = data[1]\n",
    "\n",
    "\n",
    "\n",
    "sort_index = np.argsort(data[1], axis=0)\n",
    "\n",
    "sorted_images = data[0][sort_index]\n",
    "sorted_labels = data[1][sort_index]\n",
    "\n",
    "sorted_data = sorted_images, sorted_labels\n",
    "\n",
    "image = np.asarray(sorted_images[1]).T.squeeze()\n",
    "plt.imshow(image)\n",
    "plt.show()\n",
    "\n",
    "print(decoder[sorted_labels[1]])"
   ]
  },
  {
   "cell_type": "code",
   "execution_count": 440,
   "id": "posted-therapy",
   "metadata": {},
   "outputs": [
    {
     "name": "stdout",
     "output_type": "stream",
     "text": [
      "[ 0  0  0  0  0  0  0  0  0  0  0  1  1  1  1  1  1  1  1  2  2  2  2  2\n",
      "  2  2  2  2  2  2  2  2  3  3  3  3  3  3  3  3  3  3  3  3  3  3  3  4\n",
      "  4  4  4  4  4  4  4  4  4  4  4  4  4  4  4  5  5  5  5  5  5  5  6  6\n",
      "  6  6  6  6  6  7  7  7  7  7  7  7  7  7  8  8  8  8  8  8  8  8  8  8\n",
      "  8  8  9  9  9  9  9  9  9  9  9  9  9  9  9  9  9 10 10 10 10 10 10 10\n",
      " 10 10 10 10 10 10 11 11 11 11 11 11 11 11 11 11 11 11 11 12 12 12 12 12\n",
      " 12 12 12 12 12 12 12 12 12 12 12 13 13 13 13 13 13 13 13 14 14 14 14 14\n",
      " 14 14 14 14 14 14 15 15 15 15 15 15 15 15 15 15 15 15 15 16 16 16 16 16\n",
      " 16 16 16 16 16 16 16 17 17 17 17 17 17 17 17 17 17 17 17 18 18 18 18 18\n",
      " 18 18 18 18 18 18 19 19 19 19 19 19 19 19 19 20 20 20 20 20 20 20 20 20\n",
      " 20 20 20 20 20 20 20 20 21 21 21 21 21 21 21 21 22 22 22 22 22 22 22 23\n",
      " 23 23 23 23 23 23 23 23 24 24 24 24 24 24 24 24 25 25 25 25 25 25 25 25\n",
      " 25 25 25 25 25 25 25 26 26 26 26 26 26 26 27 27 27 27 27 27 27 27 27 27\n",
      " 28 28 28 28 28 28 28 28 28 29 29 29 29 29 29 29 29 29 30 30 30 30 30 30\n",
      " 30 30 30 30 30 30 30 30 31 31 31 31 31 31 31 31 31 31 31 31 31 31 32 32\n",
      " 32 32 32 32 32 32 32 32 32 32 33 33 33 33 33 33 33 33 33 34 34 34 34 34\n",
      " 34 34 34 34 34 35 35 35 35 35 35 35 35 35 35 35 35 35 36 36 36 36 36 36\n",
      " 36 36 36 36 37 37 37 37 37 37 38 38 38 38 38 38 38 38 38 38 38 38 38 38\n",
      " 39 39 39 39 39 39 39 39 39 39 40 40 40 40 40 40 40 40 40 40 40 40 41 41\n",
      " 41 41 41 41 41 42 42 42 42 42 42 42 43 43 43 43 43 43 43 43 43 43 44 44\n",
      " 44 44 44 44 44 45 45 45 45 45 45 45 45 45 45 45 45 45 45 46 46 46 46 46\n",
      " 46 46 46 46 46 46 46 46]\n"
     ]
    }
   ],
   "source": [
    "print(sorted_labels)"
   ]
  },
  {
   "cell_type": "code",
   "execution_count": 441,
   "id": "intense-saudi",
   "metadata": {},
   "outputs": [],
   "source": [
    "def get_num_cls(data):\n",
    "    labels = np.array(data[1])\n",
    "    one_hot_labels = to_categorical(labels)\n",
    "    \n",
    "    return one_hot_labels.shape[1]\n"
   ]
  },
  {
   "cell_type": "code",
   "execution_count": 442,
   "id": "aerial-married",
   "metadata": {},
   "outputs": [
    {
     "name": "stdout",
     "output_type": "stream",
     "text": [
      "47\n"
     ]
    }
   ],
   "source": [
    "N = get_num_cls(data)\n",
    "print(N)"
   ]
  },
  {
   "cell_type": "code",
   "execution_count": 452,
   "id": "least-brazilian",
   "metadata": {},
   "outputs": [],
   "source": [
    "class Forward_and_backward:\n",
    "    \"\"\"see:\n",
    "        https://arxiv.org/pdf/1908.08385.pdf\n",
    "        equations 1 and 2\n",
    "        also see:\n",
    "        https://qiskit.org/documentation/stubs/qiskit.circuit.library.CHGate.html\n",
    "    \"\"\"\n",
    "    def __init__(self, N, data, num_of_it):\n",
    "        \"\"\"\"\"\"\n",
    "        self.num_of_it = num_of_it\n",
    "        self.N = 1\n",
    "        self.target_N = N\n",
    "        self.SU_of_N = np.asarray([[1]])\n",
    "        # self.lie_algebra = 1\n",
    "        self.data = data\n",
    "        # self.mat = np.asarray([[0, -1j], [1j, 0]])\n",
    "        self.alpha = np.arange(start=1, stop= self.target_N ** 2 + 1, dtype=np.complex_)\n",
    "        self.K = 1\n",
    "        self.P = self.K * np.exp(1j * np.asarray([[0, -1j], [1j, 0]])) * self.K\n",
    "\n",
    "\n",
    "    \n",
    "    def H(self):\n",
    "        \"\"\"\"\"\"\n",
    "        h = []\n",
    "        \n",
    "        for i in range(self.target_N):\n",
    "            h.append([0])\n",
    "\n",
    "        #print(h)\n",
    "        \n",
    "        for i in range(self.target_N):\n",
    "            for k in range(self.target_N):\n",
    "                term0 = np.exp(((1j * 2 * np.pi * i * k)  / self.target_N))\n",
    "                try:\n",
    "                    term1 = term1 + term0\n",
    "                except:\n",
    "                    term1 = term0\n",
    "\n",
    "            h[i] = term1\n",
    "        h = np.asarray(h, dtype=object)\n",
    "        H_op = 1 / np.sqrt(self.target_N) * h\n",
    "\n",
    "        return H_op\n",
    "        \n",
    "    def quNit(self):\n",
    "        S3 = np.zeros(shape=(self.target_N, self.target_N))\n",
    "        np.fill_diagonal(S3, val=-(self.target_N - 1) / 2)\n",
    "        print(self.x.shape)\n",
    "        W = np.zeros(shape=self.x.shape) # learnable similar to weights\n",
    "        print(W.shape)\n",
    "        sum_of_weights = np.sum(np.vdot(W[:], self.x[:]), ) # all x's of type i\n",
    "        print(sum_of_weights)\n",
    "        Z = np.exp(1j * S3 * sum_of_weights)\n",
    "        \n",
    "        # Z_op = PrimitiveOp(Z)\n",
    "        \n",
    "        return Z * self.H() * Zero\n",
    " ##################################################   \n",
    "    \n",
    "    def driver_for_SUG(self):\n",
    "        \"\"\"finds the value for alpha which is a self.target_N set\"\"\"\n",
    "        \n",
    "        \n",
    "        print(self.SU_of_N.shape[0] * self.SU_of_N.shape[1])\n",
    "        print(self.alpha.shape)\n",
    "        \n",
    "        return self.SU_of_N / self.alpha.reshape(self.target_N, self.target_N)\n",
    "    \n",
    "    \n",
    "    def direct_sum(self, a, b):\n",
    "        \"\"\"\"\"\"\n",
    "        if isinstance(a, int) and a == 1:\n",
    "            a = np.asarray([a])[np.newaxis]\n",
    "\n",
    "        # print(\"a = \", a)\n",
    "        # print(\"b = \", b)\n",
    "        # dsum = np.zeros( np.add(a.shape,b.shape), dtype=np.complex_ )\n",
    "        # dsum[:a.shape[0],:a.shape[1]]=a\n",
    "        # dsum[a.shape[0]:,a.shape[1]:]=b\n",
    "        dsum = a + b\n",
    "        # print(dsum)\n",
    "        return dsum\n",
    "\n",
    "    def A(self, k, lie_alge, a):\n",
    "        term0 = 1j * lie_alge * 3 * a * (2 * k - 3)\n",
    "        term1 = np.exp(term0)\n",
    "        term2 = 1j * lie_alge\n",
    "        term3 = np.exp(term2)\n",
    "        term4 = ((k-1) ** 2 + 1) * a * (2 * (k - 1))\n",
    "        term5 = term3 * term4\n",
    "        term6 = term1 * term5\n",
    "        \n",
    "        return term6\n",
    "\n",
    "    def lie_algebra(self):\n",
    "        \n",
    "        if self.N == 1:\n",
    "            return 1\n",
    "        if not isinstance(self.K, int):\n",
    "            print(self.K.shape, \"K lie\")\n",
    "            print(self.P.shape, \"P lie\")\n",
    "        \n",
    "        lie_alg = self.direct_sum(self.K,  self.P)\n",
    "        \n",
    "        # print(\"lie\", lie_alg.shape)\n",
    "        \n",
    "        return lie_alg\n",
    "    \n",
    "    def mat(self):\n",
    "        if self.N > 1:\n",
    "            n = self.N\n",
    "            mat = np.zeros(shape=(n, n), dtype=np.complex_)\n",
    "            mat[0, n - 1] = -1j\n",
    "            mat[n - 1, 0] = 1j\n",
    "            \n",
    "        else:\n",
    "            mat = np.asarray([[1]], dtype=np.complex_)\n",
    "        # print(\"mat\", mat.shape)\n",
    "        # print(mat)\n",
    "        \n",
    "        return mat\n",
    "        \n",
    "    \n",
    "    def Euler_angle_param(self):\n",
    "        \"\"\"\"\"\"\n",
    "        print(\"RUN\", self.N - 1)\n",
    "        if self.N == self.target_N + 1:\n",
    "            print(\"SU of N FOR {} FOUND\".format(self.N - 1))\n",
    "            return self.SU_of_N  \n",
    "        \n",
    "\n",
    "        if self.N < 2:\n",
    "            A = 1\n",
    "        else:\n",
    "            A = np.array([0])\n",
    "            lie_alge = self.lie_algebra()\n",
    "            for k in range(self.target_N):\n",
    "                #print(k)\n",
    "                for a in self.alpha:\n",
    "                    #print(a)\n",
    "                    try:\n",
    "                        B = self.A(k, lie_alge, a)\n",
    "                        A = np.vdot(A, B)\n",
    "                    except:\n",
    "                        A = self.A(k, lie_alge, a)\n",
    "                    \n",
    "                    \n",
    "        self.N += 1\n",
    "        lie_algebra = self.lie_algebra()\n",
    "        self.P = self.K * np.exp(1j * self.mat()) * self.K\n",
    "\n",
    "        self.SU_of_N = self.K * lie_algebra * A\n",
    "        self.K = self.Euler_angle_param()\n",
    "        return self.SU_of_N\n",
    "        \n",
    "        \n",
    "    def forward(self):\n",
    "        \"\"\"\"\"\"\n",
    "        # init values for forward\n",
    "        ket_x = self.quNit()\n",
    "        self.Euler_angle_param()\n",
    "        SU_N = self.driver_for_SUG()\n",
    "        \n",
    "        # weighted ket_x\n",
    "        ket_x = SU_N * ket_x\n",
    "        \n",
    "        ket_x_s3 = np.diag(ket_x)\n",
    "        \n",
    "        def Purity(N, ket_x):\n",
    "            \"\"\"\"\"\"\n",
    "            # bra_x = ket_x.adjoint()\n",
    "            # return ((ket_x @ bra_x) / N) ** 2\n",
    "            return ((~ket_x @ ket_x) / N) ** 2\n",
    "            \n",
    "        Pa = Purity(self.target_N, ket_x)\n",
    "        print(Pa)\n",
    "        \n",
    "        \n",
    "    def forward_driver(self):\n",
    "        for i in range(self.target_N):\n",
    "            for j in range(self.num_of_it):\n",
    "                sorted_images = self.data[0]\n",
    "                sorted_labels = self.data[1]\n",
    "                self.x = sorted_images[np.where(i, False, True)].squeeze(axis=(0, -1))\n",
    "                # print(x.shape)\n",
    "                y = sorted_labels[np.where(i, False, True)]\n",
    "                # print(y.shape)\n",
    "                self.forward()\n",
    "                #backward\n",
    "            print(\"epoch {}\".format(i))"
   ]
  },
  {
   "cell_type": "code",
   "execution_count": 453,
   "id": "written-guide",
   "metadata": {},
   "outputs": [
    {
     "name": "stdout",
     "output_type": "stream",
     "text": [
      "(512, 28, 28)\n",
      "(512, 28, 28)\n",
      "0.0\n",
      "RUN 0\n",
      "RUN 1\n",
      "RUN 2\n",
      "RUN 3\n",
      "RUN 4\n",
      "RUN 5\n",
      "RUN 6\n",
      "RUN 7\n",
      "RUN 8\n",
      "RUN 9\n",
      "RUN 10\n",
      "RUN 11\n",
      "RUN 12\n",
      "RUN 13\n",
      "RUN 14\n",
      "RUN 15\n",
      "RUN 16\n",
      "RUN 17\n",
      "RUN 18\n",
      "RUN 19\n",
      "RUN 20\n",
      "RUN 21\n",
      "RUN 22\n",
      "RUN 23\n",
      "RUN 24\n",
      "RUN 25\n",
      "RUN 26\n",
      "RUN 27\n",
      "RUN 28\n",
      "RUN 29\n",
      "RUN 30\n",
      "RUN 31\n",
      "RUN 32\n",
      "RUN 33\n",
      "RUN 34\n",
      "RUN 35\n",
      "RUN 36\n",
      "RUN 37\n",
      "RUN 38\n",
      "RUN 39\n",
      "RUN 40\n",
      "RUN 41\n",
      "RUN 42\n",
      "RUN 43\n",
      "RUN 44\n",
      "RUN 45\n",
      "RUN 46\n",
      "RUN 47\n",
      "SU of N FOR 47 FOUND\n",
      "2209\n",
      "(2209,)\n"
     ]
    },
    {
     "ename": "ValueError",
     "evalue": "Operators can only be scalar multiplied by float or complex, not DictStateFn({'0': 1}) * (-5185729988.011896+1899774076.12133j) of type <class 'qiskit.aqua.operators.state_fns.dict_state_fn.DictStateFn'>.",
     "output_type": "error",
     "traceback": [
      "\u001b[1;31m---------------------------------------------------------------------------\u001b[0m",
      "\u001b[1;31mValueError\u001b[0m                                Traceback (most recent call last)",
      "\u001b[1;32m<ipython-input-453-cab01ac4eb5e>\u001b[0m in \u001b[0;36m<module>\u001b[1;34m\u001b[0m\n\u001b[0;32m      1\u001b[0m \u001b[0mgo\u001b[0m \u001b[1;33m=\u001b[0m \u001b[0mForward_and_backward\u001b[0m\u001b[1;33m(\u001b[0m\u001b[0mN\u001b[0m\u001b[1;33m,\u001b[0m \u001b[0msorted_data\u001b[0m\u001b[1;33m)\u001b[0m\u001b[1;33m\u001b[0m\u001b[1;33m\u001b[0m\u001b[0m\n\u001b[1;32m----> 2\u001b[1;33m \u001b[0mgo\u001b[0m\u001b[1;33m.\u001b[0m\u001b[0mforward_driver\u001b[0m\u001b[1;33m(\u001b[0m\u001b[1;33m)\u001b[0m\u001b[1;33m\u001b[0m\u001b[1;33m\u001b[0m\u001b[0m\n\u001b[0m",
      "\u001b[1;32m<ipython-input-452-d103204040ca>\u001b[0m in \u001b[0;36mforward_driver\u001b[1;34m(self)\u001b[0m\n\u001b[0;32m    185\u001b[0m             \u001b[0my\u001b[0m \u001b[1;33m=\u001b[0m \u001b[0msorted_labels\u001b[0m\u001b[1;33m[\u001b[0m\u001b[0mnp\u001b[0m\u001b[1;33m.\u001b[0m\u001b[0mwhere\u001b[0m\u001b[1;33m(\u001b[0m\u001b[0mi\u001b[0m\u001b[1;33m,\u001b[0m \u001b[1;32mFalse\u001b[0m\u001b[1;33m,\u001b[0m \u001b[1;32mTrue\u001b[0m\u001b[1;33m)\u001b[0m\u001b[1;33m]\u001b[0m\u001b[1;33m\u001b[0m\u001b[1;33m\u001b[0m\u001b[0m\n\u001b[0;32m    186\u001b[0m             \u001b[1;31m# print(y.shape)\u001b[0m\u001b[1;33m\u001b[0m\u001b[1;33m\u001b[0m\u001b[1;33m\u001b[0m\u001b[0m\n\u001b[1;32m--> 187\u001b[1;33m             \u001b[0mself\u001b[0m\u001b[1;33m.\u001b[0m\u001b[0mforward\u001b[0m\u001b[1;33m(\u001b[0m\u001b[1;33m)\u001b[0m\u001b[1;33m\u001b[0m\u001b[1;33m\u001b[0m\u001b[0m\n\u001b[0m\u001b[0;32m    188\u001b[0m             \u001b[1;31m#backward\u001b[0m\u001b[1;33m\u001b[0m\u001b[1;33m\u001b[0m\u001b[1;33m\u001b[0m\u001b[0m\n\u001b[0;32m    189\u001b[0m             \u001b[0mprint\u001b[0m\u001b[1;33m(\u001b[0m\u001b[1;34m\"epoch {}\"\u001b[0m\u001b[1;33m.\u001b[0m\u001b[0mformat\u001b[0m\u001b[1;33m(\u001b[0m\u001b[0mi\u001b[0m\u001b[1;33m)\u001b[0m\u001b[1;33m)\u001b[0m\u001b[1;33m\u001b[0m\u001b[1;33m\u001b[0m\u001b[0m\n",
      "\u001b[1;32m<ipython-input-452-d103204040ca>\u001b[0m in \u001b[0;36mforward\u001b[1;34m(self)\u001b[0m\n\u001b[0;32m    173\u001b[0m             \u001b[1;32mreturn\u001b[0m \u001b[1;33m(\u001b[0m\u001b[1;33m(\u001b[0m\u001b[1;33m~\u001b[0m\u001b[0mket_x\u001b[0m \u001b[1;33m@\u001b[0m \u001b[0mket_x\u001b[0m\u001b[1;33m)\u001b[0m \u001b[1;33m/\u001b[0m \u001b[0mN\u001b[0m\u001b[1;33m)\u001b[0m \u001b[1;33m**\u001b[0m \u001b[1;36m2\u001b[0m\u001b[1;33m\u001b[0m\u001b[1;33m\u001b[0m\u001b[0m\n\u001b[0;32m    174\u001b[0m \u001b[1;33m\u001b[0m\u001b[0m\n\u001b[1;32m--> 175\u001b[1;33m         \u001b[0mPa\u001b[0m \u001b[1;33m=\u001b[0m \u001b[0mPurity\u001b[0m\u001b[1;33m(\u001b[0m\u001b[0mself\u001b[0m\u001b[1;33m.\u001b[0m\u001b[0mtarget_N\u001b[0m\u001b[1;33m,\u001b[0m \u001b[0mket_x\u001b[0m\u001b[1;33m)\u001b[0m\u001b[1;33m\u001b[0m\u001b[1;33m\u001b[0m\u001b[0m\n\u001b[0m\u001b[0;32m    176\u001b[0m         \u001b[0mprint\u001b[0m\u001b[1;33m(\u001b[0m\u001b[0mPa\u001b[0m\u001b[1;33m)\u001b[0m\u001b[1;33m\u001b[0m\u001b[1;33m\u001b[0m\u001b[0m\n\u001b[0;32m    177\u001b[0m \u001b[1;33m\u001b[0m\u001b[0m\n",
      "\u001b[1;32m<ipython-input-452-d103204040ca>\u001b[0m in \u001b[0;36mPurity\u001b[1;34m(N, ket_x)\u001b[0m\n\u001b[0;32m    171\u001b[0m             \u001b[1;31m# bra_x = ket_x.adjoint()\u001b[0m\u001b[1;33m\u001b[0m\u001b[1;33m\u001b[0m\u001b[1;33m\u001b[0m\u001b[0m\n\u001b[0;32m    172\u001b[0m             \u001b[1;31m# return ((ket_x @ bra_x) / N) ** 2\u001b[0m\u001b[1;33m\u001b[0m\u001b[1;33m\u001b[0m\u001b[1;33m\u001b[0m\u001b[0m\n\u001b[1;32m--> 173\u001b[1;33m             \u001b[1;32mreturn\u001b[0m \u001b[1;33m(\u001b[0m\u001b[1;33m(\u001b[0m\u001b[1;33m~\u001b[0m\u001b[0mket_x\u001b[0m \u001b[1;33m@\u001b[0m \u001b[0mket_x\u001b[0m\u001b[1;33m)\u001b[0m \u001b[1;33m/\u001b[0m \u001b[0mN\u001b[0m\u001b[1;33m)\u001b[0m \u001b[1;33m**\u001b[0m \u001b[1;36m2\u001b[0m\u001b[1;33m\u001b[0m\u001b[1;33m\u001b[0m\u001b[0m\n\u001b[0m\u001b[0;32m    174\u001b[0m \u001b[1;33m\u001b[0m\u001b[0m\n\u001b[0;32m    175\u001b[0m         \u001b[0mPa\u001b[0m \u001b[1;33m=\u001b[0m \u001b[0mPurity\u001b[0m\u001b[1;33m(\u001b[0m\u001b[0mself\u001b[0m\u001b[1;33m.\u001b[0m\u001b[0mtarget_N\u001b[0m\u001b[1;33m,\u001b[0m \u001b[0mket_x\u001b[0m\u001b[1;33m)\u001b[0m\u001b[1;33m\u001b[0m\u001b[1;33m\u001b[0m\u001b[0m\n",
      "\u001b[1;32mc:\\users\\jcook\\anaconda3\\envs\\tf-gpu\\lib\\site-packages\\qiskit\\aqua\\operators\\operator_base.py\u001b[0m in \u001b[0;36m__mul__\u001b[1;34m(self, other)\u001b[0m\n\u001b[0;32m    328\u001b[0m             \u001b[0mAn\u001b[0m\u001b[0;31m \u001b[0m\u001b[0;31m`\u001b[0m\u001b[0;31m`\u001b[0m\u001b[0mOperatorBase\u001b[0m\u001b[0;31m`\u001b[0m\u001b[0;31m`\u001b[0m \u001b[0mequivalent\u001b[0m \u001b[0mto\u001b[0m \u001b[0mproduct\u001b[0m \u001b[0mof\u001b[0m \u001b[0mself\u001b[0m \u001b[1;32mand\u001b[0m \u001b[0mscalar\u001b[0m\u001b[1;33m.\u001b[0m\u001b[1;33m\u001b[0m\u001b[1;33m\u001b[0m\u001b[0m\n\u001b[0;32m    329\u001b[0m         \"\"\"\n\u001b[1;32m--> 330\u001b[1;33m         \u001b[1;32mreturn\u001b[0m \u001b[0mself\u001b[0m\u001b[1;33m.\u001b[0m\u001b[0mmul\u001b[0m\u001b[1;33m(\u001b[0m\u001b[0mother\u001b[0m\u001b[1;33m)\u001b[0m\u001b[1;33m\u001b[0m\u001b[1;33m\u001b[0m\u001b[0m\n\u001b[0m\u001b[0;32m    331\u001b[0m \u001b[1;33m\u001b[0m\u001b[0m\n\u001b[0;32m    332\u001b[0m     \u001b[1;32mdef\u001b[0m \u001b[0m__rmul__\u001b[0m\u001b[1;33m(\u001b[0m\u001b[0mself\u001b[0m\u001b[1;33m,\u001b[0m \u001b[0mother\u001b[0m\u001b[1;33m:\u001b[0m \u001b[0mNumber\u001b[0m\u001b[1;33m)\u001b[0m \u001b[1;33m->\u001b[0m \u001b[1;34m'OperatorBase'\u001b[0m\u001b[1;33m:\u001b[0m\u001b[1;33m\u001b[0m\u001b[1;33m\u001b[0m\u001b[0m\n",
      "\u001b[1;32mc:\\users\\jcook\\anaconda3\\envs\\tf-gpu\\lib\\site-packages\\qiskit\\aqua\\operators\\state_fns\\state_fn.py\u001b[0m in \u001b[0;36mmul\u001b[1;34m(self, scalar)\u001b[0m\n\u001b[0;32m    165\u001b[0m     \u001b[1;32mdef\u001b[0m \u001b[0mmul\u001b[0m\u001b[1;33m(\u001b[0m\u001b[0mself\u001b[0m\u001b[1;33m,\u001b[0m \u001b[0mscalar\u001b[0m\u001b[1;33m:\u001b[0m \u001b[0mUnion\u001b[0m\u001b[1;33m[\u001b[0m\u001b[0mint\u001b[0m\u001b[1;33m,\u001b[0m \u001b[0mfloat\u001b[0m\u001b[1;33m,\u001b[0m \u001b[0mcomplex\u001b[0m\u001b[1;33m,\u001b[0m \u001b[0mParameterExpression\u001b[0m\u001b[1;33m]\u001b[0m\u001b[1;33m)\u001b[0m \u001b[1;33m->\u001b[0m \u001b[0mOperatorBase\u001b[0m\u001b[1;33m:\u001b[0m\u001b[1;33m\u001b[0m\u001b[1;33m\u001b[0m\u001b[0m\n\u001b[0;32m    166\u001b[0m         \u001b[1;32mif\u001b[0m \u001b[1;32mnot\u001b[0m \u001b[0misinstance\u001b[0m\u001b[1;33m(\u001b[0m\u001b[0mscalar\u001b[0m\u001b[1;33m,\u001b[0m \u001b[1;33m(\u001b[0m\u001b[0mint\u001b[0m\u001b[1;33m,\u001b[0m \u001b[0mfloat\u001b[0m\u001b[1;33m,\u001b[0m \u001b[0mcomplex\u001b[0m\u001b[1;33m,\u001b[0m \u001b[0mParameterExpression\u001b[0m\u001b[1;33m)\u001b[0m\u001b[1;33m)\u001b[0m\u001b[1;33m:\u001b[0m\u001b[1;33m\u001b[0m\u001b[1;33m\u001b[0m\u001b[0m\n\u001b[1;32m--> 167\u001b[1;33m             raise ValueError('Operators can only be scalar multiplied by float or complex, not '\n\u001b[0m\u001b[0;32m    168\u001b[0m                              '{} of type {}.'.format(scalar, type(scalar)))\n\u001b[0;32m    169\u001b[0m \u001b[1;33m\u001b[0m\u001b[0m\n",
      "\u001b[1;31mValueError\u001b[0m: Operators can only be scalar multiplied by float or complex, not DictStateFn({'0': 1}) * (-5185729988.011896+1899774076.12133j) of type <class 'qiskit.aqua.operators.state_fns.dict_state_fn.DictStateFn'>."
     ]
    }
   ],
   "source": [
    "go = Forward_and_backward(N, sorted_data, 3)\n",
    "go.forward_driver()\n"
   ]
  },
  {
   "cell_type": "code",
   "execution_count": null,
   "id": "smoking-villa",
   "metadata": {},
   "outputs": [],
   "source": []
  },
  {
   "cell_type": "code",
   "execution_count": null,
   "id": "negative-egyptian",
   "metadata": {},
   "outputs": [],
   "source": []
  }
 ],
 "metadata": {
  "kernelspec": {
   "display_name": "Python 3",
   "language": "python",
   "name": "python3"
  },
  "language_info": {
   "codemirror_mode": {
    "name": "ipython",
    "version": 3
   },
   "file_extension": ".py",
   "mimetype": "text/x-python",
   "name": "python",
   "nbconvert_exporter": "python",
   "pygments_lexer": "ipython3",
   "version": "3.8.8"
  }
 },
 "nbformat": 4,
 "nbformat_minor": 5
}
