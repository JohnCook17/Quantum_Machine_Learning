{
 "cells": [
  {
   "cell_type": "code",
   "execution_count": 145,
   "id": "sublime-filter",
   "metadata": {},
   "outputs": [],
   "source": [
    "import gzip\n",
    "from tensorflow.keras.utils import to_categorical"
   ]
  },
  {
   "cell_type": "code",
   "execution_count": 146,
   "id": "organized-system",
   "metadata": {},
   "outputs": [],
   "source": [
    "# Useful additional packages\n",
    "import matplotlib.pyplot as plt\n",
    "%matplotlib inline\n",
    "import numpy as np\n",
    "from math import pi"
   ]
  },
  {
   "cell_type": "code",
   "execution_count": 147,
   "id": "differential-roulette",
   "metadata": {},
   "outputs": [],
   "source": [
    "from qiskit import QuantumCircuit, ClassicalRegister, QuantumRegister, execute\n",
    "from qiskit.tools.visualization import circuit_drawer\n",
    "from qiskit.quantum_info import state_fidelity\n",
    "from qiskit import  Aer, transpile, IBMQ, assemble\n",
    "from qiskit.circuit.library import CHGate\n",
    "from qiskit.quantum_info.operators import Operator\n",
    "from qiskit.aqua.operators import PrimitiveOp, CircuitStateFn\n",
    "from qiskit.aqua.operators.primitive_ops import MatrixOp\n",
    "from qiskit.aqua.operators.converters import CircuitSampler\n",
    "from qiskit.aqua.operators.expectations import MatrixExpectation\n",
    "from qiskit.aqua.operators import Zero"
   ]
  },
  {
   "cell_type": "code",
   "execution_count": 148,
   "id": "vulnerable-intent",
   "metadata": {},
   "outputs": [
    {
     "name": "stderr",
     "output_type": "stream",
     "text": [
      "ibmqfactory.load_account:WARNING:2021-04-20 14:28:36,801: Credentials are already in use. The existing account in the session will be replaced.\n"
     ]
    }
   ],
   "source": [
    "provider = IBMQ.load_account()"
   ]
  },
  {
   "cell_type": "code",
   "execution_count": 149,
   "id": "prescription-series",
   "metadata": {},
   "outputs": [
    {
     "name": "stdout",
     "output_type": "stream",
     "text": [
      "[QasmSimulator(\n",
      "backend_name='qasm_simulator', provider=AerProvider()), StatevectorSimulator(\n",
      "backend_name='statevector_simulator', provider=AerProvider()), UnitarySimulator(\n",
      "backend_name='unitary_simulator', provider=AerProvider()), PulseSimulator(\n",
      "backend_name='pulse_simulator', provider=AerProvider())]\n"
     ]
    }
   ],
   "source": [
    "print(Aer.backends())\n",
    "simulator = Aer.get_backend(\"statevector_simulator\")\n",
    "# simulator.set_option(method=)\n",
    "my_sampler = CircuitSampler(backend=simulator, attach_results=True, param_qobj=False)  # read up on this more\n",
    "my_expectation = MatrixExpectation()"
   ]
  },
  {
   "cell_type": "code",
   "execution_count": 150,
   "id": "desirable-identity",
   "metadata": {},
   "outputs": [],
   "source": [
    "# EMNIST decoder\n",
    "\n",
    "decoder = \"0123456789ABCDEFGHIJKLMNOPQRSTUVWXYZabcdefghijklmnopqrstuvwxyz\""
   ]
  },
  {
   "cell_type": "code",
   "execution_count": 151,
   "id": "instrumental-latter",
   "metadata": {},
   "outputs": [],
   "source": [
    "images_raw = gzip.open(\"data/EMNIST/gzip/emnist-balanced-train-images-idx3-ubyte.gz\", \"r\")\n",
    "labels_raw = gzip.open(\"data/EMNIST/gzip/emnist-balanced-train-labels-idx1-ubyte.gz\")\n",
    "\n",
    "\n",
    "image_size = 28\n",
    "num_images = 1024 # how many images per batch\n",
    "\n",
    "images_raw.read(16) # reads the data type\n",
    "labels_raw.read(8) # reads the data type\n",
    "\n",
    "def get_data(images, labels):\n",
    "    buf_images = images.read(image_size * image_size * num_images)\n",
    "    images = np.frombuffer(buf_images, dtype=np.uint8).astype(np.float32)\n",
    "    images = images.reshape(num_images, image_size, image_size, 1)\n",
    "    \n",
    "    buf_labels = labels.read(num_images)\n",
    "    labels = np.frombuffer(buf_labels, dtype=np.uint8).astype(np.int32)\n",
    "    \n",
    "    return images, labels"
   ]
  },
  {
   "cell_type": "code",
   "execution_count": 152,
   "id": "hired-pakistan",
   "metadata": {
    "scrolled": true
   },
   "outputs": [
    {
     "data": {
      "image/png": "[encoded data removed]",
      "text/plain": [
       "<Figure size 432x288 with 1 Axes>"
      ]
     },
     "metadata": {
      "needs_background": "light"
     },
     "output_type": "display_data"
    },
    {
     "name": "stdout",
     "output_type": "stream",
     "text": [
      "0\n"
     ]
    }
   ],
   "source": [
    "# print images\n",
    "data = get_data(images_raw, labels_raw)\n",
    "\n",
    "images = data[0]\n",
    "labels = data[1]\n",
    "\n",
    "\n",
    "\n",
    "sort_index = np.argsort(data[1], axis=0)\n",
    "\n",
    "sorted_images = data[0][sort_index]\n",
    "sorted_labels = data[1][sort_index]\n",
    "\n",
    "\n",
    "image = np.asarray(sorted_images[1]).T.squeeze()\n",
    "plt.imshow(image)\n",
    "plt.show()\n",
    "\n",
    "print(decoder[sorted_labels[1]])"
   ]
  },
  {
   "cell_type": "code",
   "execution_count": 127,
   "id": "republican-burke",
   "metadata": {},
   "outputs": [
    {
     "name": "stdout",
     "output_type": "stream",
     "text": [
      "[ 0  0  0 ... 46 46 46]\n"
     ]
    }
   ],
   "source": [
    "print(sorted_labels)"
   ]
  },
  {
   "cell_type": "code",
   "execution_count": 153,
   "id": "intense-saudi",
   "metadata": {},
   "outputs": [],
   "source": [
    "def get_num_cls(data):\n",
    "    labels = np.array(data[1])\n",
    "    one_hot_labels = to_categorical(labels)\n",
    "    \n",
    "    return one_hot_labels.shape[1]\n"
   ]
  },
  {
   "cell_type": "code",
   "execution_count": 154,
   "id": "aerial-married",
   "metadata": {},
   "outputs": [
    {
     "name": "stdout",
     "output_type": "stream",
     "text": [
      "47\n"
     ]
    }
   ],
   "source": [
    "N = get_num_cls(data)\n",
    "print(N)"
   ]
  },
  {
   "cell_type": "code",
   "execution_count": 155,
   "id": "least-brazilian",
   "metadata": {},
   "outputs": [],
   "source": [
    "class Forward_Prop:\n",
    "    \"\"\"see:\n",
    "        https://arxiv.org/pdf/1908.08385.pdf\n",
    "        equations 1 and 2\n",
    "        also see:\n",
    "        https://qiskit.org/documentation/stubs/qiskit.circuit.library.CHGate.html\n",
    "    \"\"\"\n",
    "    def __init__(self, N, x):\n",
    "        \"\"\"\"\"\"\n",
    "        self.N = 1\n",
    "        self.target_N = N\n",
    "        self.SU_of_N = np.asarray([[1]])\n",
    "        # self.lie_algebra = 1\n",
    "        self.x = x\n",
    "        # self.mat = np.asarray([[0, -1j], [1j, 0]])\n",
    "        self.alpha = np.arange(start=1, stop= self.target_N ** 2 + 1, dtype=np.complex_)\n",
    "        self.K = 1\n",
    "        self.P = self.K * np.exp(1j * np.asarray([[0, -1j], [1j, 0]])) * self.K\n",
    "\n",
    "\n",
    "    \n",
    "    def H(self):\n",
    "        \"\"\"\"\"\"\n",
    "        h = []\n",
    "        \n",
    "        for i in range(self.target_N):\n",
    "            h.append([0])\n",
    "\n",
    "        #print(h)\n",
    "        \n",
    "        for i in range(self.target_N):\n",
    "            for k in range(self.target_N):\n",
    "                term0 = np.exp(((1j * 2 * np.pi * i * k)  / self.target_N))\n",
    "                try:\n",
    "                    term1 = term1 + term0\n",
    "                except:\n",
    "                    term1 = term0\n",
    "\n",
    "            h[i] = term1\n",
    "        h = np.asarray(h, dtype=object)\n",
    "        H_op = 1 / np.sqrt(self.target_N) * h\n",
    "\n",
    "        return H_op\n",
    "        \n",
    "    def quNit(self):\n",
    "        S3 = np.zeros(shape=(self.target_N, self.target_N))\n",
    "        np.fill_diagonal(S3, val=-(self.target_N - 1) / 2)\n",
    "        W = np.zeros(shape=self.x.shape) # learnable similar to weights\n",
    "        sum_of_weights = np.sum(W @ self.x)\n",
    "        print(sum_of_weights)\n",
    "        Z = np.exp(1j * S3 * sum_of_weights)\n",
    "        \n",
    "        # Z_op = PrimitiveOp(Z)\n",
    "        \n",
    "        return Z * self.H() * Zero\n",
    " ##################################################   \n",
    "    \n",
    "    def driver_for_SUG(self):\n",
    "        \"\"\"finds the value for alpha which is a self.target_N set\"\"\"\n",
    "        \n",
    "        \n",
    "        print(self.SU_of_N.shape[0] * self.SU_of_N.shape[1])\n",
    "        print(self.alpha.shape)\n",
    "        \n",
    "        return self.SU_of_N / self.alpha.reshape(self.target_N, self.target_N)\n",
    "    \n",
    "    \n",
    "    def direct_sum(self, a, b):\n",
    "        \"\"\"\"\"\"\n",
    "        if isinstance(a, int) and a == 1:\n",
    "            a = np.asarray([a])[np.newaxis]\n",
    "\n",
    "        # print(\"a = \", a)\n",
    "        # print(\"b = \", b)\n",
    "        # dsum = np.zeros( np.add(a.shape,b.shape), dtype=np.complex_ )\n",
    "        # dsum[:a.shape[0],:a.shape[1]]=a\n",
    "        # dsum[a.shape[0]:,a.shape[1]:]=b\n",
    "        dsum = a + b\n",
    "        # print(dsum)\n",
    "        return dsum\n",
    "\n",
    "    def A(self, k, lie_alge, a):\n",
    "        term0 = 1j * lie_alge * 3 * a * (2 * k - 3)\n",
    "        term1 = np.exp(term0)\n",
    "        term2 = 1j * lie_alge\n",
    "        term3 = np.exp(term2)\n",
    "        term4 = ((k-1) ** 2 + 1) * a * (2 * (k - 1))\n",
    "        term5 = term3 * term4\n",
    "        term6 = term1 * term5\n",
    "        \n",
    "        return term6\n",
    "\n",
    "    def lie_algebra(self):\n",
    "        \n",
    "        if self.N == 1:\n",
    "            return 1\n",
    "        if not isinstance(self.K, int):\n",
    "            print(self.K.shape, \"K lie\")\n",
    "            print(self.P.shape, \"P lie\")\n",
    "        \n",
    "        lie_alg = self.direct_sum(self.K,  self.P)\n",
    "        \n",
    "        # print(\"lie\", lie_alg.shape)\n",
    "        \n",
    "        return lie_alg\n",
    "    \n",
    "    def mat(self):\n",
    "        if self.N > 1:\n",
    "            n = self.N\n",
    "            mat = np.zeros(shape=(n, n), dtype=np.complex_)\n",
    "            mat[0, n - 1] = -1j\n",
    "            mat[n - 1, 0] = 1j\n",
    "            \n",
    "        else:\n",
    "            mat = np.asarray([[1]], dtype=np.complex_)\n",
    "        # print(\"mat\", mat.shape)\n",
    "        # print(mat)\n",
    "        \n",
    "        return mat\n",
    "        \n",
    "    \n",
    "    def Euler_angle_param(self):\n",
    "        \"\"\"\"\"\"\n",
    "        print(\"RUN\", self.N - 1)\n",
    "        if self.N == self.target_N + 1:\n",
    "            print(\"SU of N FOR {} FOUND\".format(self.N - 1))\n",
    "            return self.SU_of_N  \n",
    "        \n",
    "\n",
    "        if self.N < 2:\n",
    "            A = 1\n",
    "        else:\n",
    "            A = np.array([0])\n",
    "            lie_alge = self.lie_algebra()\n",
    "            for k in range(self.target_N):\n",
    "                #print(k)\n",
    "                for a in self.alpha:\n",
    "                    #print(a)\n",
    "                    try:\n",
    "                        B = self.A(k, lie_alge, a)\n",
    "                        A = np.vdot(A, B)\n",
    "                    except:\n",
    "                        A = self.A(k, lie_alge, a)\n",
    "                    \n",
    "                    \n",
    "        self.N += 1\n",
    "        lie_algebra = self.lie_algebra()\n",
    "        self.P = self.K * np.exp(1j * self.mat()) * self.K\n",
    "\n",
    "        self.SU_of_N = self.K * lie_algebra * A\n",
    "        self.K = self.Euler_angle_param()\n",
    "        return self.SU_of_N\n",
    "        \n",
    "        \n",
    "    def forward(self):\n",
    "        \"\"\"\"\"\"\n",
    "        # init values for forward\n",
    "        ket_x = self.quNit()\n",
    "        self.Euler_angle_param()\n",
    "        SU_N = self.driver_for_SUG()\n",
    "        \n",
    "        # weighted ket_x\n",
    "        ket_x = np.vdot(SU_N, ket_x)\n",
    "\n",
    "        # measurement of ket_x\n",
    "        ket_x = ket_x.eval()\n",
    "        \n",
    "        \n",
    "        def Purity(N, ket_x):\n",
    "            \"\"\"\"\"\"\n",
    "            # bra_x = ket_x.adjoint()\n",
    "            # return ((ket_x @ bra_x) / N) ** 2\n",
    "            return ((~ket_x @ ket_x) / N) ** 2\n",
    "            \n",
    "        Pa = Purity(self.target_N, ket_x)\n",
    "        print(Pa)"
   ]
  },
  {
   "cell_type": "code",
   "execution_count": 156,
   "id": "surprising-composer",
   "metadata": {
    "scrolled": true
   },
   "outputs": [
    {
     "name": "stdout",
     "output_type": "stream",
     "text": [
      "0.0\n",
      "<class 'numpy.ndarray'>\n",
      "(47, 47)\n",
      "[[DictStateFn({'0': 1}, coeff=(6.855654600401044+0j), is_measurement=False)\n",
      "  DictStateFn({'0': 1}, coeff=(6.855654600401044+1.0931130363220779e-16j), is_measurement=False)\n",
      "  DictStateFn({'0': 1}, coeff=(6.855654600401044-8.906846962624339e-17j), is_measurement=False)\n",
      "  ...\n",
      "  DictStateFn({'0': 1}, coeff=(6.85565460040108+4.4016018262569003e-14j), is_measurement=False)\n",
      "  DictStateFn({'0': 1}, coeff=(6.8556546004010785+4.1983637728370177e-14j), is_measurement=False)\n",
      "  DictStateFn({'0': 1}, coeff=(6.8556546004011105+5.0497773711278805e-14j), is_measurement=False)]\n",
      " [DictStateFn({'0': 1}, coeff=(6.855654600401044+0j), is_measurement=False)\n",
      "  DictStateFn({'0': 1}, coeff=(6.855654600401044+1.0931130363220779e-16j), is_measurement=False)\n",
      "  DictStateFn({'0': 1}, coeff=(6.855654600401044-8.906846962624339e-17j), is_measurement=False)\n",
      "  ...\n",
      "  DictStateFn({'0': 1}, coeff=(6.85565460040108+4.4016018262569003e-14j), is_measurement=False)\n",
      "  DictStateFn({'0': 1}, coeff=(6.8556546004010785+4.1983637728370177e-14j), is_measurement=False)\n",
      "  DictStateFn({'0': 1}, coeff=(6.8556546004011105+5.0497773711278805e-14j), is_measurement=False)]\n",
      " [DictStateFn({'0': 1}, coeff=(6.855654600401044+0j), is_measurement=False)\n",
      "  DictStateFn({'0': 1}, coeff=(6.855654600401044+1.0931130363220779e-16j), is_measurement=False)\n",
      "  DictStateFn({'0': 1}, coeff=(6.855654600401044-8.906846962624339e-17j), is_measurement=False)\n",
      "  ...\n",
      "  DictStateFn({'0': 1}, coeff=(6.85565460040108+4.4016018262569003e-14j), is_measurement=False)\n",
      "  DictStateFn({'0': 1}, coeff=(6.8556546004010785+4.1983637728370177e-14j), is_measurement=False)\n",
      "  DictStateFn({'0': 1}, coeff=(6.8556546004011105+5.0497773711278805e-14j), is_measurement=False)]\n",
      " ...\n",
      " [DictStateFn({'0': 1}, coeff=(6.855654600401044+0j), is_measurement=False)\n",
      "  DictStateFn({'0': 1}, coeff=(6.855654600401044+1.0931130363220779e-16j), is_measurement=False)\n",
      "  DictStateFn({'0': 1}, coeff=(6.855654600401044-8.906846962624339e-17j), is_measurement=False)\n",
      "  ...\n",
      "  DictStateFn({'0': 1}, coeff=(6.85565460040108+4.4016018262569003e-14j), is_measurement=False)\n",
      "  DictStateFn({'0': 1}, coeff=(6.8556546004010785+4.1983637728370177e-14j), is_measurement=False)\n",
      "  DictStateFn({'0': 1}, coeff=(6.8556546004011105+5.0497773711278805e-14j), is_measurement=False)]\n",
      " [DictStateFn({'0': 1}, coeff=(6.855654600401044+0j), is_measurement=False)\n",
      "  DictStateFn({'0': 1}, coeff=(6.855654600401044+1.0931130363220779e-16j), is_measurement=False)\n",
      "  DictStateFn({'0': 1}, coeff=(6.855654600401044-8.906846962624339e-17j), is_measurement=False)\n",
      "  ...\n",
      "  DictStateFn({'0': 1}, coeff=(6.85565460040108+4.4016018262569003e-14j), is_measurement=False)\n",
      "  DictStateFn({'0': 1}, coeff=(6.8556546004010785+4.1983637728370177e-14j), is_measurement=False)\n",
      "  DictStateFn({'0': 1}, coeff=(6.8556546004011105+5.0497773711278805e-14j), is_measurement=False)]\n",
      " [DictStateFn({'0': 1}, coeff=(6.855654600401044+0j), is_measurement=False)\n",
      "  DictStateFn({'0': 1}, coeff=(6.855654600401044+1.0931130363220779e-16j), is_measurement=False)\n",
      "  DictStateFn({'0': 1}, coeff=(6.855654600401044-8.906846962624339e-17j), is_measurement=False)\n",
      "  ...\n",
      "  DictStateFn({'0': 1}, coeff=(6.85565460040108+4.4016018262569003e-14j), is_measurement=False)\n",
      "  DictStateFn({'0': 1}, coeff=(6.8556546004010785+4.1983637728370177e-14j), is_measurement=False)\n",
      "  DictStateFn({'0': 1}, coeff=(6.8556546004011105+5.0497773711278805e-14j), is_measurement=False)]]\n"
     ]
    }
   ],
   "source": [
    "vector_x = Forward_Prop(N, image)\n",
    "ket_x = vector_x.quNit()\n",
    "print(type(ket_x))\n",
    "print(ket_x.shape)\n",
    "print(ket_x)\n",
    "\n",
    "\n",
    "\n"
   ]
  },
  {
   "cell_type": "code",
   "execution_count": 157,
   "id": "centered-holmes",
   "metadata": {},
   "outputs": [
    {
     "name": "stdout",
     "output_type": "stream",
     "text": [
      "RUN 0\n",
      "RUN 1\n",
      "RUN 2\n",
      "RUN 3\n",
      "RUN 4\n",
      "RUN 5\n",
      "RUN 6\n",
      "RUN 7\n",
      "RUN 8\n",
      "RUN 9\n",
      "RUN 10\n",
      "RUN 11\n",
      "RUN 12\n",
      "RUN 13\n",
      "RUN 14\n",
      "RUN 15\n",
      "RUN 16\n",
      "RUN 17\n",
      "RUN 18\n",
      "RUN 19\n",
      "RUN 20\n",
      "RUN 21\n",
      "RUN 22\n",
      "RUN 23\n",
      "RUN 24\n",
      "RUN 25\n",
      "RUN 26\n",
      "RUN 27\n",
      "RUN 28\n",
      "RUN 29\n",
      "RUN 30\n",
      "RUN 31\n",
      "RUN 32\n",
      "RUN 33\n",
      "RUN 34\n",
      "RUN 35\n",
      "RUN 36\n",
      "RUN 37\n",
      "RUN 38\n",
      "RUN 39\n",
      "RUN 40\n",
      "RUN 41\n",
      "RUN 42\n",
      "RUN 43\n",
      "RUN 44\n",
      "RUN 45\n",
      "RUN 46\n",
      "RUN 47\n",
      "SU of N FOR 47 FOUND\n",
      "2209\n",
      "(2209,)\n",
      "[[-7.56416461e+08+2.77110529e+08j -3.78208230e+08+1.38555265e+08j\n",
      "  -2.52138820e+08+9.23701765e+07j ... -1.68092547e+07+6.15801177e+06j\n",
      "  -1.64438361e+07+6.02414194e+06j  2.96938853e+07-1.15624261e+07j]\n",
      " [-1.57586763e+07+5.77313603e+06j -1.54370706e+07+5.65531693e+06j\n",
      "  -1.51283292e+07+5.54221059e+06j ... -8.22191805e+06+3.01207097e+06j\n",
      "  -8.13351033e+06+2.97968311e+06j -8.04698362e+06+2.94798436e+06j]\n",
      " [-7.96227853e+06+2.91695294e+06j -7.87933813e+06+2.88656802e+06j\n",
      "  -7.79810784e+06+2.85680958e+06j ... -5.44184504e+06+1.99360093e+06j\n",
      "  -5.40297472e+06+1.97936092e+06j -5.36465575e+06+1.96532290e+06j]\n",
      " ...\n",
      " [-3.65595196e+05+1.33934524e+05j -3.65418580e+05+1.33869821e+05j\n",
      "  -3.65242135e+05+1.33805181e+05j ... -3.57982234e+05+1.31145542e+05j\n",
      "  -3.57812895e+05+1.31083505e+05j -3.57643717e+05+1.31021527e+05j]\n",
      " [-3.57474698e+05+1.30959607e+05j -3.57305839e+05+1.30897747e+05j\n",
      "  -3.57137139e+05+1.30835944e+05j ... -3.50192806e+05+1.28291912e+05j\n",
      "  -3.50030755e+05+1.28232545e+05j -3.49868853e+05+1.28173233e+05j]\n",
      " [ 1.53723606e+05+2.03108594e+05j -3.49545499e+05+1.28054773e+05j\n",
      "  -3.49384046e+05+1.27995626e+05j ... -3.42735143e+05+1.25559823e+05j\n",
      "  -3.42579919e+05+1.25502957e+05j -3.42424835e+05+1.25446143e+05j]]\n"
     ]
    }
   ],
   "source": [
    "vector_x.Euler_angle_param()\n",
    "SU_N = vector_x.driver_for_SUG()\n",
    "print(SU_N)"
   ]
  },
  {
   "cell_type": "code",
   "execution_count": 158,
   "id": "protective-private",
   "metadata": {},
   "outputs": [
    {
     "name": "stdout",
     "output_type": "stream",
     "text": [
      "(47, 47)\n"
     ]
    }
   ],
   "source": [
    "print(SU_N.shape)"
   ]
  },
  {
   "cell_type": "code",
   "execution_count": 159,
   "id": "civil-affairs",
   "metadata": {},
   "outputs": [],
   "source": [
    "ket_x = np.vdot(SU_N, ket_x)"
   ]
  },
  {
   "cell_type": "code",
   "execution_count": 160,
   "id": "inside-making",
   "metadata": {},
   "outputs": [
    {
     "name": "stdout",
     "output_type": "stream",
     "text": [
      "<class 'qiskit.aqua.operators.state_fns.dict_state_fn.DictStateFn'>\n",
      "DictStateFn({'0': 1}) * (-42608752971.52127-15606655950.535341j)\n",
      "1\n"
     ]
    }
   ],
   "source": [
    "print(type(ket_x))\n",
    "print(ket_x)\n",
    "print(ket_x.num_qubits)"
   ]
  },
  {
   "cell_type": "code",
   "execution_count": 173,
   "id": "tamil-disco",
   "metadata": {},
   "outputs": [
    {
     "name": "stdout",
     "output_type": "stream",
     "text": [
      "VectorStateFn(Statevector([-4.2608753e+10-1.5606656e+10j,  0.0000000e+00-0.0000000e+00j],\n",
      "            dims=(2,)))\n"
     ]
    }
   ],
   "source": [
    "ket_x = ket_x.eval()\n",
    "print(ket_x)"
   ]
  },
  {
   "cell_type": "code",
   "execution_count": 174,
   "id": "sought-chemical",
   "metadata": {},
   "outputs": [],
   "source": [
    "def Purity(N, ket_x):\n",
    "    \"\"\"\"\"\"\n",
    "    # bra_x = ket_x.adjoint()\n",
    "    # return ((ket_x @ bra_x) / N) ** 2\n",
    "    return ((~ket_x @ ket_x) / N) ** 2"
   ]
  },
  {
   "cell_type": "code",
   "execution_count": 175,
   "id": "substantial-oracle",
   "metadata": {},
   "outputs": [
    {
     "name": "stdout",
     "output_type": "stream",
     "text": [
      "ComposedOp([\n",
      "  0.02127659574468085 * ComposedOp([\n",
      "    MeasurementVector(Statevector([-4.2608753e+10+1.5606656e+10j,  0.0000000e+00+0.0000000e+00j],\n",
      "                dims=(2,))),\n",
      "    VectorStateFn(Statevector([-4.2608753e+10-1.5606656e+10j,  0.0000000e+00-0.0000000e+00j],\n",
      "                dims=(2,)))\n",
      "  ]),\n",
      "  0.02127659574468085 * ComposedOp([\n",
      "    MeasurementVector(Statevector([-4.2608753e+10+1.5606656e+10j,  0.0000000e+00+0.0000000e+00j],\n",
      "                dims=(2,))),\n",
      "    VectorStateFn(Statevector([-4.2608753e+10-1.5606656e+10j,  0.0000000e+00-0.0000000e+00j],\n",
      "                dims=(2,)))\n",
      "  ])\n",
      "])\n"
     ]
    }
   ],
   "source": [
    "Pa = Purity(N, ket_x)\n",
    "print(Pa)"
   ]
  },
  {
   "cell_type": "code",
   "execution_count": 176,
   "id": "perfect-place",
   "metadata": {},
   "outputs": [],
   "source": [
    "answer_mat = Pa.to_matrix()"
   ]
  },
  {
   "cell_type": "code",
   "execution_count": 177,
   "id": "accepted-museum",
   "metadata": {},
   "outputs": [
    {
     "name": "stdout",
     "output_type": "stream",
     "text": [
      "0\n"
     ]
    }
   ],
   "source": [
    "print(answer)"
   ]
  },
  {
   "cell_type": "code",
   "execution_count": 171,
   "id": "regulation-alarm",
   "metadata": {},
   "outputs": [],
   "source": [
    "answer = np.argmax(answer_mat)"
   ]
  },
  {
   "cell_type": "code",
   "execution_count": 172,
   "id": "sacred-enzyme",
   "metadata": {},
   "outputs": [
    {
     "name": "stdout",
     "output_type": "stream",
     "text": [
      "0\n"
     ]
    }
   ],
   "source": [
    "print(answer)"
   ]
  },
  {
   "cell_type": "code",
   "execution_count": null,
   "id": "ruled-sydney",
   "metadata": {},
   "outputs": [],
   "source": []
  }
 ],
 "metadata": {
  "kernelspec": {
   "display_name": "Python 3",
   "language": "python",
   "name": "python3"
  },
  "language_info": {
   "codemirror_mode": {
    "name": "ipython",
    "version": 3
   },
   "file_extension": ".py",
   "mimetype": "text/x-python",
   "name": "python",
   "nbconvert_exporter": "python",
   "pygments_lexer": "ipython3",
   "version": "3.8.8"
  }
 },
 "nbformat": 4,
 "nbformat_minor": 5
}
