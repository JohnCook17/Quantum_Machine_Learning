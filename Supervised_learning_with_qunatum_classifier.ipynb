{
 "cells": [
  {
   "cell_type": "code",
   "execution_count": 1,
   "id": "sublime-filter",
   "metadata": {},
   "outputs": [
    {
     "name": "stdout",
     "output_type": "stream",
     "text": [
      "Wall time: 5.43 s\n"
     ]
    }
   ],
   "source": [
    "%%time\n",
    "import gzip\n",
    "import tensorflow as tf\n",
    "from tensorflow.keras.utils import to_categorical"
   ]
  },
  {
   "cell_type": "code",
   "execution_count": 2,
   "id": "organized-system",
   "metadata": {},
   "outputs": [
    {
     "name": "stdout",
     "output_type": "stream",
     "text": [
      "Wall time: 795 ms\n"
     ]
    },
    {
     "data": {
      "text/plain": [
       "'1.19.0'"
      ]
     },
     "execution_count": 2,
     "metadata": {},
     "output_type": "execute_result"
    }
   ],
   "source": [
    "%%time\n",
    "# Useful additional packages\n",
    "import matplotlib.pyplot as plt\n",
    "%matplotlib inline\n",
    "import numpy as np\n",
    "np.version.version"
   ]
  },
  {
   "cell_type": "code",
   "execution_count": 3,
   "id": "differential-roulette",
   "metadata": {},
   "outputs": [
    {
     "name": "stdout",
     "output_type": "stream",
     "text": [
      "Wall time: 6.37 s\n"
     ]
    }
   ],
   "source": [
    "%%time\n",
    "from qiskit import QuantumCircuit, ClassicalRegister, QuantumRegister, execute\n",
    "from qiskit.tools.visualization import circuit_drawer\n",
    "from qiskit.quantum_info import state_fidelity, OneQubitEulerDecomposer\n",
    "from qiskit import  Aer, transpile, IBMQ, assemble\n",
    "from qiskit.circuit.library import CHGate\n",
    "from qiskit.quantum_info.operators import Operator\n",
    "from qiskit.aqua.operators import PrimitiveOp, CircuitStateFn\n",
    "from qiskit.aqua.operators.primitive_ops import MatrixOp\n",
    "from qiskit.aqua.operators.converters import CircuitSampler\n",
    "from qiskit.aqua.operators.expectations import MatrixExpectation # factory or matirx?\n",
    "from qiskit.aqua.operators.list_ops import ComposedOp\n",
    "from qiskit.aqua.operators import ListOp\n",
    "from qiskit.aqua.components.initial_states import Zero\n",
    "import qiskit"
   ]
  },
  {
   "cell_type": "code",
   "execution_count": 4,
   "id": "medical-action",
   "metadata": {},
   "outputs": [
    {
     "name": "stderr",
     "output_type": "stream",
     "text": [
      "INFO: Using numpy backend\n"
     ]
    }
   ],
   "source": [
    "from geomstats.geometry.special_orthogonal import SpecialOrthogonal\n",
    "from geomstats.geometry.lie_algebra import MatrixLieAlgebra\n",
    "from geomstats.learning.pca import TangentPCA\n"
   ]
  },
  {
   "cell_type": "code",
   "execution_count": 5,
   "id": "vulnerable-intent",
   "metadata": {},
   "outputs": [
    {
     "name": "stderr",
     "output_type": "stream",
     "text": [
      "__init__.discover_credentials:INFO:2021-05-03 21:05:42,654: Using credentials from qiskitrc\n"
     ]
    },
    {
     "name": "stdout",
     "output_type": "stream",
     "text": [
      "Wall time: 2.16 s\n"
     ]
    }
   ],
   "source": [
    "%%time\n",
    "provider = IBMQ.load_account()"
   ]
  },
  {
   "cell_type": "code",
   "execution_count": 6,
   "id": "satisfied-vietnam",
   "metadata": {},
   "outputs": [],
   "source": [
    "import logging\n",
    "logger = logging.getLogger()\n",
    "logger.setLevel(logging.CRITICAL)"
   ]
  },
  {
   "cell_type": "code",
   "execution_count": 7,
   "id": "prescription-series",
   "metadata": {},
   "outputs": [
    {
     "name": "stdout",
     "output_type": "stream",
     "text": [
      "Wall time: 6 ms\n"
     ]
    }
   ],
   "source": [
    "%%time\n",
    "# print(Aer.backends())\n",
    "simulator = Aer.get_backend(\"statevector_simulator\")\n",
    "# simulator.set_option(method=)\n",
    "my_sampler = CircuitSampler(backend=simulator, attach_results=True, param_qobj=False)  # read up on this more\n",
    "my_expectation = MatrixExpectation()"
   ]
  },
  {
   "cell_type": "code",
   "execution_count": 8,
   "id": "desirable-identity",
   "metadata": {},
   "outputs": [
    {
     "name": "stdout",
     "output_type": "stream",
     "text": [
      "Wall time: 0 ns\n"
     ]
    }
   ],
   "source": [
    "%%time\n",
    "# EMNIST decoder\n",
    "\n",
    "decoder = \"0123456789ABCDEFGHIJKLMNOPQRSTUVWXYZabcdefghijklmnopqrstuvwxyz\""
   ]
  },
  {
   "cell_type": "code",
   "execution_count": 9,
   "id": "instrumental-latter",
   "metadata": {},
   "outputs": [
    {
     "name": "stdout",
     "output_type": "stream",
     "text": [
      "Wall time: 4 ms\n"
     ]
    }
   ],
   "source": [
    "%%time\n",
    "images_raw = gzip.open(\"data/MNIST/MNIST_GZ/train-images-idx3-ubyte.gz\", \"r\")\n",
    "labels_raw = gzip.open(\"data/MNIST/MNIST_GZ/train-labels-idx1-ubyte.gz\")\n",
    "\n",
    "\n",
    "image_size = 28\n",
    "num_images = 128 # 4096 # how many images per batch\n",
    "\n",
    "images_raw.read(16) # reads the data type\n",
    "labels_raw.read(8) # reads the data type\n",
    "\n",
    "def get_data(images, labels):\n",
    "    buf_images = images.read(image_size * image_size * num_images)\n",
    "    images = np.frombuffer(buf_images, dtype=np.uint8).astype(np.float32)\n",
    "    images = images.reshape(num_images, image_size, image_size, 1)\n",
    "    \n",
    "    buf_labels = labels.read(num_images)\n",
    "    labels = np.frombuffer(buf_labels, dtype=np.uint8).astype(np.int32)\n",
    "    \n",
    "    return images, labels"
   ]
  },
  {
   "cell_type": "code",
   "execution_count": 10,
   "id": "hired-pakistan",
   "metadata": {
    "scrolled": true
   },
   "outputs": [
    {
     "data": {
      "image/png": "[encoded data removed]",
      "text/plain": [
       "<Figure size 432x288 with 1 Axes>"
      ]
     },
     "metadata": {
      "needs_background": "light"
     },
     "output_type": "display_data"
    },
    {
     "name": "stdout",
     "output_type": "stream",
     "text": [
      "0\n",
      "Wall time: 235 ms\n"
     ]
    }
   ],
   "source": [
    "%%time\n",
    "# print images\n",
    "data = get_data(images_raw, labels_raw)\n",
    "\n",
    "images = data[0]\n",
    "labels = data[1]\n",
    "\n",
    "\n",
    "\n",
    "sort_index = np.argsort(data[1], axis=0)\n",
    "\n",
    "sorted_images = data[0][sort_index]\n",
    "sorted_labels = data[1][sort_index]\n",
    "\n",
    "sorted_data = sorted_images, sorted_labels\n",
    "\n",
    "image = np.asarray(sorted_images[1]).T.squeeze()\n",
    "plt.imshow(image)\n",
    "plt.show()\n",
    "\n",
    "print(decoder[sorted_labels[1]])"
   ]
  },
  {
   "cell_type": "code",
   "execution_count": 11,
   "id": "posted-therapy",
   "metadata": {},
   "outputs": [
    {
     "name": "stdout",
     "output_type": "stream",
     "text": [
      "[0 0 0 0 0 0 0 0 0 0 0 0 0 0 0 0 0 0 1 1 1 1 1 1 1 1 1 1 1 1 1 1 1 1 1 1 1\n",
      " 1 2 2 2 2 2 2 2 2 2 2 3 3 3 3 3 3 3 3 3 3 3 3 3 4 4 4 4 4 4 4 4 4 4 4 4 4\n",
      " 5 5 5 5 5 5 6 6 6 6 6 6 6 6 6 6 6 6 6 7 7 7 7 7 7 7 7 7 7 7 7 7 8 8 8 8 8\n",
      " 8 8 8 8 9 9 9 9 9 9 9 9 9 9 9 9 9]\n",
      "Wall time: 1e+03 µs\n"
     ]
    }
   ],
   "source": [
    "%%time\n",
    "np.set_printoptions(threshold=2 ** 10 + 1)\n",
    "print(sorted_labels)"
   ]
  },
  {
   "cell_type": "code",
   "execution_count": 12,
   "id": "intense-saudi",
   "metadata": {},
   "outputs": [
    {
     "name": "stdout",
     "output_type": "stream",
     "text": [
      "Wall time: 0 ns\n"
     ]
    }
   ],
   "source": [
    "%%time\n",
    "def get_num_cls(data):\n",
    "    labels = np.array(data[1])\n",
    "    one_hot_labels = to_categorical(labels)\n",
    "    \n",
    "    return one_hot_labels.shape[1]\n"
   ]
  },
  {
   "cell_type": "code",
   "execution_count": 13,
   "id": "aerial-married",
   "metadata": {},
   "outputs": [
    {
     "name": "stdout",
     "output_type": "stream",
     "text": [
      "10\n",
      "Wall time: 5 ms\n"
     ]
    }
   ],
   "source": [
    "%%time\n",
    "N = get_num_cls(data)\n",
    "print(N)"
   ]
  },
  {
   "cell_type": "code",
   "execution_count": 45,
   "id": "inner-intervention",
   "metadata": {},
   "outputs": [],
   "source": [
    "class AdamOptim():\n",
    "    \"\"\"From https://towardsdatascience.com/how-to-implement-an-adam-optimizer-from-scratch-76e7b217f1cc\"\"\"\n",
    "    def __init__(self, num_of_keys=1, eta=0.01, beta1=0.9, beta2=0.999, epsilon=1e-8):\n",
    "        self.m_dw = {key: 0 for key in range(num_of_keys)}\n",
    "        self.v_dw = {key: 0 for key in range(num_of_keys)}\n",
    "        self.m_db, self.v_db = 0, 0\n",
    "        self.beta1 = beta1\n",
    "        self.beta2 = beta2\n",
    "        self.epsilon = epsilon\n",
    "        self.eta = eta\n",
    "    def update(self, key, t, w, b, dw, db):\n",
    "        ## dw, db are from current minibatch\n",
    "        ## momentum beta 1\n",
    "        # *** weights *** #\n",
    "        self.m_dw[key] = self.beta1*self.m_dw[key] + (1-self.beta1)*dw\n",
    "        # *** biases *** #\n",
    "        self.m_db = self.beta1*self.m_db + (1-self.beta1)*db\n",
    "\n",
    "        ## rms beta 2\n",
    "        # *** weights *** #\n",
    "        self.v_dw[key] = self.beta2*self.v_dw[key] + (1-self.beta2)*(dw**2)\n",
    "        # *** biases *** #\n",
    "        self.v_db = self.beta2*self.v_db + (1-self.beta2)*(db)\n",
    "\n",
    "        ## bias correction\n",
    "        m_dw_corr = self.m_dw[key]/(1-self.beta1**t + self.epsilon)\n",
    "        m_db_corr = self.m_db/(1-self.beta1**t + self.epsilon)\n",
    "        v_dw_corr = self.v_dw[key]/(1-self.beta2**t + self.epsilon)\n",
    "        v_db_corr = self.v_db/(1-self.beta2**t + self.epsilon)\n",
    "\n",
    "        ## update weights and biases\n",
    "        w = w + self.eta*(m_dw_corr/(np.sqrt(v_dw_corr)+self.epsilon)) # changed this to a - from a + for the first two terms\n",
    "        b = b + self.eta*(m_db_corr/(np.sqrt(v_db_corr)+self.epsilon)) # changed this to a - from a + for the first two terms\n",
    "        return w, b"
   ]
  },
  {
   "cell_type": "code",
   "execution_count": 55,
   "id": "least-brazilian",
   "metadata": {},
   "outputs": [],
   "source": [
    "# %%time\n",
    "\n",
    "class Forward_and_backward:\n",
    "    \"\"\"see:\n",
    "        https://arxiv.org/pdf/1908.08385.pdf\n",
    "        equations 1 and 2\n",
    "        also see:\n",
    "        https://qiskit.org/documentation/stubs/qiskit.circuit.library.CHGate.html\n",
    "    \"\"\"\n",
    "    def __init__(self, N, data, num_of_it):\n",
    "        \"\"\"\"\"\"\n",
    "        self.num_of_it = num_of_it\n",
    "        self.target_N = N\n",
    "        self.N = self.target_N - 1\n",
    "        self.data = data\n",
    "        self.alpha = np.arange(start=1, stop=self.target_N ** 2 + 1, dtype=np.complex) # kind of like biases\n",
    "        # self.K = 1\n",
    "        # self.P = []\n",
    "        # self.P_idx = 0\n",
    "        self.total_error = {}\n",
    "        self.Ek = {}\n",
    "    \n",
    "    def H(self):\n",
    "        \"\"\"\"\"\"\n",
    "        def map_circuit(k, qc_k):\n",
    "            \"\"\"\"\"\"\n",
    "            for i in range(self.target_N):\n",
    "                try:\n",
    "                    qc_k.cx(k, i) + OneQubitEulerDecomposer(\"ZYZ\") * np.exp(1j * np.sum(self.lie_algebra) * np.sum(self.alpha)) #MIGHT NEED TO MOVE TO INIT\n",
    "                except:\n",
    "                    #print(qc_k)\n",
    "                    continue\n",
    "\n",
    "        qr = QuantumRegister(self.target_N, \"qreg\")\n",
    "        qc_k = QuantumCircuit(qr, name=\"qc_k\")\n",
    "        # print(type(qc_k))\n",
    "        \n",
    "        for k in range(1, self.target_N + 1):\n",
    "            qc_k.initialize([np.sqrt(1/2), np.sqrt(1/2)], qubits=k - 1) # might be 1, 0 \n",
    "        \n",
    "        for k in range(self.target_N):  # has to be seperate loop to have h gate be first\n",
    "            map_circuit(k, qc_k)\n",
    "            # END ROTATIONS\n",
    "            # qc_k.h(k)\n",
    "        \n",
    "            \n",
    "        \n",
    "        # self.cr_k = ClassicalRegister(self.target_N, name=\"cr_k\")\n",
    "        # self.qc_k.add_register(self.cr_k)\n",
    "        op = PrimitiveOp(qc_k)\n",
    "        # print(op.num_qubits)\n",
    "\n",
    "        h = []\n",
    "        for i in range(self.x.shape[2]):\n",
    "            # row = []\n",
    "            # for k in range(self.target_N ):  # REMOVE THIS?\n",
    "                # row.append(op)\n",
    "            h.append(op) # was row\n",
    "            # print(\"term1 = \", term1)\n",
    "\n",
    "            # h.append(row)\n",
    "            # row.append(h)\n",
    "            # print(h[i])\n",
    "            \n",
    "        vec_0 = np.zeros(shape=(self.target_N, self.target_N), dtype=np.complex_)\n",
    "        vec_0[0, 0] = 1\n",
    "        vec_0 = np.asmatrix(vec_0).H\n",
    "        vec_0 = np.asarray(vec_0) # might help it go faster?\n",
    "            \n",
    "        h = np.asarray(h, dtype=object)[:np.newaxis]\n",
    "        # print(\"h shape = \", h.shape)\n",
    "        H_op = np.asarray(h / np.sqrt(self.target_N, dtype=np.complex), dtype=object) \n",
    "\n",
    "        # print(H_op.shape)\n",
    "        # print(vec_0.shape)\n",
    "        \n",
    "        # H_op= H_op @ vec_0\n",
    "        \n",
    "        # print(\"h_op =\", H_op.shape)\n",
    "        \n",
    "        return H_op\n",
    "        \n",
    "    def quNit(self):\n",
    "        # qr = QuantumRegister(self.target_N, 'a')\n",
    "        \n",
    "        S3 =np.zeros(shape=(self.target_N, self.target_N), dtype=np.complex_)\n",
    "        np.fill_diagonal(S3, -(self.target_N - 1) / 2)\n",
    "        # print(self.x.shape)\n",
    "        # print(self.W[self.i].shape)\n",
    "        sum_of_weights = np.sum(np.asarray([w @ x for w, x in zip(self.W[self.i], self.x)]), axis=0)\n",
    "        # print(sum_of_weights)\n",
    "        Z = np.exp((0 + 1j) * S3) \n",
    "        \n",
    "        # print(\"weights = \", sum_of_weights.shape)\n",
    "        \n",
    "        qn = Z @ (sum_of_weights @ self.H()).T\n",
    "        # print(\"QN shape = \", qn.shape)\n",
    "        return qn # init state should be 0\n",
    "\n",
    " ##################################################   \n",
    "    \n",
    "    def driver_for_SUG(self):\n",
    "        \"\"\"finds the value for alpha which is a self.target_N set\"\"\"\n",
    "        \n",
    "        SU_N_alpha = self.Euler_angle_param() # should be 10, 10 shape for target n == 10\n",
    "        \n",
    "        # print(SU_N_alpha.shape)\n",
    "        \n",
    "        return SU_N_alpha\n",
    "\n",
    "    def A(self, lie_alge):\n",
    "        \"\"\"-1 from all indicies\"\"\"\n",
    "        a = 0\n",
    "        \n",
    "        # print(lie_alge.shape)\n",
    "        \n",
    "        for k in range(2, self.target_N + 1):\n",
    "            #-ONE FROM ALL INDEXES?\n",
    "            \n",
    "            # print(\"k = \", k)\n",
    "            term0 = 1j * lie_alge[3] * self.alpha[(2 * k - 3)]\n",
    "            print(term0)\n",
    "            term1 = np.exp(term0)\n",
    "            term2 = 1j * lie_alge[((k-1) ** 2 + 1)]\n",
    "            term3 = np.exp(term2)\n",
    "            term4 = self.alpha[(2 * (k - 1))]\n",
    "            term5 = term3 * term4\n",
    "            term6 = term1 * term5\n",
    "            \n",
    "            a += np.prod(term6)\n",
    "        \n",
    "        # print(\"A.shape = \", a.shape)\n",
    "        \n",
    "        return a\n",
    "\n",
    "    def SU_of_Nm1(self, n):\n",
    "        n += 1\n",
    "        so3 = SpecialOrthogonal(n=n, point_type='matrix')\n",
    "        # print(type(so3))\n",
    "        metric = so3.bi_invariant_metric\n",
    "\n",
    "        data = so3.random_uniform(n_samples=(self.target_N))\n",
    "\n",
    "        tpca = TangentPCA(metric=metric, n_components=(self.target_N))  ## SELF.TARGET_N?\n",
    "        tpca = tpca.fit(data)\n",
    "        tangent_projected_data = tpca.transform(data)\n",
    "        return tangent_projected_data\n",
    "    \n",
    "    def SU_of_N(self, n):\n",
    "        n += 1\n",
    "        so3 = SpecialOrthogonal(n=n, point_type='matrix')\n",
    "        # print(type(so3))\n",
    "        metric = so3.bi_invariant_metric\n",
    "\n",
    "        data = so3.random_uniform(n_samples=(self.target_N + 1)) \n",
    "\n",
    "        tpca = TangentPCA(metric=metric, n_components=(self.target_N + 1))  ## SELF.TARGET_N?\n",
    "        tpca = tpca.fit(data)\n",
    "        tangent_projected_data = tpca.transform(data)\n",
    "        return tangent_projected_data\n",
    "    \n",
    "    def Euler_angle_param(self):\n",
    "        \"\"\"\"\"\"\n",
    "        lie_alge = MatrixLieAlgebra(dim=self.target_N, n=self.target_N) # first dim\n",
    "        self.lie_algebra = lie_alge.baker_campbell_hausdorff(self.SU_of_Nm1(self.N), self.SU_of_Nm1(self.N), self.N)\n",
    "        \n",
    "        lie_algebra = self.lie_algebra\n",
    "        \n",
    "        # print(\"LIE ALGE = \",  lie_algebra.shape,  lie_algebra)\n",
    "        \n",
    "        # print(\"LIE and SU of N\")\n",
    "        \n",
    "        term0 = self.A(lie_algebra.flatten())\n",
    "        term1 = self.SU_of_Nm1(self.N)\n",
    "        # print(term1.shape)\n",
    "        term2 = term0 * term1\n",
    "        # print(term2.shape)\n",
    "        term3 = np.exp(1j * np.sum(lie_algebra) * np.sum(self.alpha))\n",
    "        # print(term3.shape)\n",
    "        term4 = term2 * term3\n",
    "        # print(term4.shape)\n",
    "\n",
    "        return term4\n",
    "\n",
    "    ############################################\n",
    "    \n",
    "    \n",
    "    def forward(self):\n",
    "        \"\"\"\"\"\"\n",
    "        # init values for forward\n",
    "        SU_N = self.driver_for_SUG()\n",
    "        ket_x = self.quNit()\n",
    "        \n",
    "        \n",
    "        # weighted ket_x\n",
    "        \n",
    "        print(\"before su(n)\", ket_x.shape)\n",
    "        print(SU_N.shape)\n",
    "        \n",
    "        ket_x = SU_N @ ket_x\n",
    "        \n",
    "        # print(\"########KET X##########\", ket_x)\n",
    "\n",
    "        ket_x_list = []\n",
    "        \n",
    "        # print(\"after\", ket_x.shape)\n",
    "        # print(ket_x)\n",
    "\n",
    "        for k, op in enumerate(ket_x):\n",
    "            cr = ClassicalRegister(self.target_N, \"creg{}\".format(k))\n",
    "            qc = my_expectation.convert(op)\n",
    "            qc = qc.to_circuit()\n",
    "            # qc.add_register(qr)\n",
    "            qc.add_register(cr)\n",
    "            qc.measure_all([val for val in range(self.target_N - 1)])\n",
    "            qobj = assemble(qc, shots= 2 ** self.target_N)\n",
    "            job = simulator.run(qobj)\n",
    "            # data = job.result().data(self.qc)\n",
    "            vec = job.result().get_statevector(qc, decimals=10)\n",
    "            # print(vec)\n",
    "            ket_x_list.append(vec)\n",
    "        \n",
    "        \"\"\"for i, array in enumerate(ket_x):\n",
    "            row = []\n",
    "            for k, op in enumerate(array):\n",
    "                # print(op)\n",
    "                # print(self.qr)\n",
    "                qr = QuantumRegister(self.target_N, \"qreg{}{}\".format(i, k))\n",
    "                cr = ClassicalRegister(self.target_N, 'creg{}{}'.format(i, k))\n",
    "                qc = my_expectation.convert(op)\n",
    "                \n",
    "                qc = qc.to_circuit()\n",
    "                # qc.add_register(qr)\n",
    "                qc.add_register(cr)\n",
    "                qc.measure_all([val for val in range(self.target_N - 1)])\n",
    "                qobj = assemble(qc, shots=self.target_N)\n",
    "                job = simulator.run(qobj)\n",
    "                # data = job.result().data(self.qc)\n",
    "                vec = job.result().get_statevector(qc, decimals=10)\n",
    "                \n",
    "                # mem = job.result().get_memory()\n",
    "                # print(vec)\n",
    "                row.append(vec)\n",
    "                try:\n",
    "                    unitary = job.result.get_unitary(decimals=10)\n",
    "                    # print(unitary)\n",
    "                except:\n",
    "                    continue\n",
    "            ket_x_list.append(row)\"\"\"\n",
    "        \n",
    "        ket_x = np.asarray(ket_x_list)\n",
    "        \n",
    "        # print(ket_x)\n",
    "        \n",
    "        # print(ket_x)\n",
    "        # print(ket_x.shape)\n",
    "        \n",
    "        \"\"\"bins = np.linspace(0, 1, int(np.sqrt(2 ** self.target_N))) # might be wrong shape here\n",
    "        print(bins.shape)\n",
    "        idx = np.digitize(ket_x.real[k, j], bins)\n",
    "        print(idx.shape)\n",
    "        ket_x = [np.mean(ket_x[:, :, idx == i]) for i in range(len(bins))]\"\"\"\n",
    "        \n",
    "        \"\"\"new_ket_x = []\n",
    "        for k, array in enumerate(ket_x):\n",
    "            # print(array.shape)\n",
    "            # print(array)\n",
    "            new_array = []\n",
    "            for j, row in enumerate(array):\n",
    "                string = \"0b\"\n",
    "                for value in reversed(row.real.astype(int)):\n",
    "                    string += str(value)\n",
    "                # print(string)\n",
    "                new_row = int(string.replace(\",\", \"\"), 2)\n",
    "                # print(\"NEW_ROW= \", new_row)\n",
    "                new_array.append(new_row)\n",
    "\n",
    "            new_ket_x.append(new_array)\n",
    "        \n",
    "        new_ket_x = np.asarray(new_ket_x,  dtype=np.complex_)\n",
    "        print(new_ket_x.shape)\n",
    "        \n",
    "        ket_x = new_ket_x\"\"\"\n",
    "\n",
    "        # print(ket_x.shape)\n",
    "        \n",
    "        \n",
    "        def Purity(N, ket_x):\n",
    "            \"\"\"\"\"\"\n",
    "            bra_x = np.asmatrix(ket_x).H\n",
    "            \n",
    "            return ((ket_x @ bra_x) / N) ** 2\n",
    "            \n",
    "        Pa = Purity(self.target_N, ket_x)\n",
    "        # print(Pa)\n",
    "        Pa = np.diag(Pa)\n",
    "        print(Pa.shape)\n",
    "        Pb = np.argmax(Pa)\n",
    "        print(\"prediction = \", Pb)\n",
    "        print(\"probs = \", Pa.real)\n",
    "\n",
    "        return Pb, ket_x\n",
    "\n",
    "    def backward(self, pred_dict):\n",
    "        \"\"\"\"\"\"\n",
    "        SU_N = self.driver_for_SUG()\n",
    "        qc = self.H()\n",
    "        Mk = self.target_N * self.target_N\n",
    "        \n",
    "        ket_x = pred_dict[decoder[self.i]][1]\n",
    "        \n",
    "        # print(ket_x.shape)\n",
    "        \n",
    "        Pk = np.asarray(np.matrix(ket_x) @ np.matrix(ket_x).H  / Mk, dtype=np.complex_)\n",
    "\n",
    "        Pk = np.asarray(np.asmatrix(SU_N) @ Pk @ np.asmatrix(SU_N).H, dtype=np.complex_)\n",
    "\n",
    "        # print(qc.shape)\n",
    "        \n",
    "        # print(\"Pk after sun = \", Pk.shape)\n",
    "\n",
    "        Pk = np.diagonal(Pk)\n",
    "        \n",
    "        # print(Pk)\n",
    "        \n",
    "        # back prop probs\n",
    "        for i, value in enumerate(Pk):\n",
    "            print(\"chance of {} = {}\".format(i, (value.real) / Mk))\n",
    "            \n",
    "        \n",
    "        self.Ek[self.i] = 1 - Pk\n",
    "\n",
    "    def cost(self):\n",
    "        Mk = self.target_N * self.target_N\n",
    "        \n",
    "        e = self.Ek[self.i]\n",
    "        e /= Mk\n",
    "\n",
    "        print(\"error shape =\", e.shape)\n",
    "        \n",
    "        self.total_error[self.i] = e\n",
    "    \n",
    "        \n",
    "    def train(self):\n",
    "        \"\"\"\"\"\"\n",
    "        adam = AdamOptim(num_of_keys=self.target_N)\n",
    "        pred_dict = {}\n",
    "        init_W = True\n",
    "        self.W = {}\n",
    "        \n",
    "        \n",
    "        \n",
    "        for i in range(self.target_N):\n",
    "            for j in range(self.num_of_it):\n",
    "                self.i = i\n",
    "                print(\"working on {}s\".format(decoder[i]))\n",
    "                sorted_images = self.data[0]\n",
    "                sorted_labels = self.data[1]\n",
    "                # print(sorted_labels.shape)\n",
    "                y = sorted_labels[sorted_labels == i]\n",
    "                # print(y)\n",
    "                self.x = sorted_images[sorted_labels == i] / 255 # for images\n",
    "\n",
    "                try:\n",
    "                    # print(self.x.shape)\n",
    "                    self.x = self.x.squeeze(axis=(0, -1))\n",
    "                    # print(self.x.shape)\n",
    "                except(ValueError):\n",
    "                    # print(self.x.shape)\n",
    "                    self.x = self.x.squeeze(axis=-1)\n",
    "                    # print(self.x.shape)\n",
    "\n",
    "                \"\"\"image = self.x[0]\n",
    "                plt.imshow(image)\n",
    "                plt.show()\"\"\"\n",
    "\n",
    "                if init_W:\n",
    "                    print(\"init W\")\n",
    "                    self.W[self.i] = np.random.random(size=(self.x.shape[0], self.target_N, self.x.shape[2])) # learnable similar to weights\n",
    "\n",
    "                pred_dict[decoder[i]] = self.forward()\n",
    "                self.backward(pred_dict)\n",
    "                self.cost()\n",
    "\n",
    "                print(self.total_error[self.i])\n",
    "                \n",
    "                dw = (np.asarray([w @ w.T for w in self.W[self.i]], dtype=np.complex_) @ self.total_error[self.i])[:, :, np.newaxis]\n",
    "                db = self.alpha  @ self.alpha.T * np.sum(self.total_error[self.i])\n",
    "\n",
    "                print(\"DW shape = \", dw.shape)\n",
    "                # print(dw)\n",
    "                print(\"Db shape =\", db.shape)\n",
    "                # print(db)\n",
    "\n",
    "                self.W[self.i], self.alpha = adam.update(key=i, t=j, w=self.W[self.i], b=self.alpha, dw=dw, db=db)\n",
    "                # print(self.total_error[self.i].real)\n",
    "\n",
    "                init_W = False\n",
    "        init_W = True\n",
    "                \n",
    "            "
   ]
  },
  {
   "cell_type": "code",
   "execution_count": 56,
   "id": "streaming-module",
   "metadata": {},
   "outputs": [],
   "source": [
    "# %time\n",
    "train = Forward_and_backward(N, sorted_data, 25)"
   ]
  },
  {
   "cell_type": "code",
   "execution_count": 57,
   "id": "guided-aggregate",
   "metadata": {},
   "outputs": [
    {
     "name": "stdout",
     "output_type": "stream",
     "text": [
      "working on 0s\n",
      "init W\n",
      "1734.8178432598843j\n",
      "3469.6356865197686j\n",
      "5204.453529779653j\n",
      "6939.271373039537j\n",
      "8674.08921629942j\n",
      "10408.907059559306j\n",
      "12143.72490281919j\n",
      "13878.542746079074j\n",
      "15613.360589338958j\n",
      "before su(n) (10,)\n",
      "(10, 10)\n",
      "(10,)\n",
      "prediction =  0\n",
      "probs =  [0.01 0.01 0.01 0.01 0.01 0.01 0.01 0.01 0.01 0.01]\n",
      "-984.4861131409298j\n",
      "-1968.9722262818595j\n",
      "-2953.4583394227893j\n",
      "-3937.944452563719j\n",
      "-4922.430565704649j\n",
      "-5906.916678845579j\n",
      "-6891.402791986508j\n",
      "-7875.888905127438j\n",
      "-8860.375018268369j\n",
      "chance of 0 = 0.6513000262864922\n",
      "chance of 1 = 0.7836541011907485\n",
      "chance of 2 = 0.6526889700162141\n",
      "chance of 3 = 0.6265953025573205\n",
      "chance of 4 = 0.8483937523561218\n",
      "chance of 5 = 0.8328706792975796\n",
      "chance of 6 = 0.7390627622363314\n",
      "chance of 7 = 1.132795729406289\n",
      "chance of 8 = 0.9884272285408732\n",
      "chance of 9 = 0.8337668062723016\n",
      "error shape = (10,)\n",
      "[-0.64130003+3.55271368e-17j -0.7736541 +0.00000000e+00j\n",
      " -0.64268897+0.00000000e+00j -0.6165953 -3.55271368e-17j\n",
      " -0.83839375-3.55271368e-17j -0.82287068+0.00000000e+00j\n",
      " -0.72906276-3.55271368e-17j -1.12279573-7.10542736e-17j\n",
      " -0.97842723-3.55271368e-17j -0.82376681+0.00000000e+00j]\n",
      "DW shape =  (18, 10, 1)\n",
      "Db shape = ()\n",
      "working on 0s\n",
      "(516158947.68654937+1985.4961910632376j)\n",
      "(516158947.68654937+3970.992392048218j)\n",
      "(516158947.68654937+5956.488593033199j)\n",
      "(516158947.68654937+7941.98479401818j)\n",
      "(516158947.68654937+9927.48099500316j)\n",
      "(516158947.68654937+11912.97719598814j)\n",
      "(516158947.68654937+13898.47339697312j)\n",
      "(516158947.68654937+15883.969597958101j)\n",
      "(516158947.68654937+17869.46579894308j)\n"
     ]
    },
    {
     "name": "stderr",
     "output_type": "stream",
     "text": [
      "<ipython-input-55-ee2c6de1ad7e>:123: RuntimeWarning: overflow encountered in exp\n",
      "  term1 = np.exp(term0)\n",
      "<ipython-input-55-ee2c6de1ad7e>:128: RuntimeWarning: invalid value encountered in cdouble_scalars\n",
      "  term6 = term1 * term5\n"
     ]
    },
    {
     "ename": "KeyboardInterrupt",
     "evalue": "",
     "output_type": "error",
     "traceback": [
      "\u001b[1;31m---------------------------------------------------------------------------\u001b[0m",
      "\u001b[1;31mKeyboardInterrupt\u001b[0m                         Traceback (most recent call last)",
      "\u001b[1;32m<timed eval>\u001b[0m in \u001b[0;36m<module>\u001b[1;34m\u001b[0m\n",
      "\u001b[1;32m<ipython-input-55-ee2c6de1ad7e>\u001b[0m in \u001b[0;36mtrain\u001b[1;34m(self)\u001b[0m\n\u001b[0;32m    379\u001b[0m                     \u001b[0mself\u001b[0m\u001b[1;33m.\u001b[0m\u001b[0mW\u001b[0m\u001b[1;33m[\u001b[0m\u001b[0mself\u001b[0m\u001b[1;33m.\u001b[0m\u001b[0mi\u001b[0m\u001b[1;33m]\u001b[0m \u001b[1;33m=\u001b[0m \u001b[0mnp\u001b[0m\u001b[1;33m.\u001b[0m\u001b[0mrandom\u001b[0m\u001b[1;33m.\u001b[0m\u001b[0mrandom\u001b[0m\u001b[1;33m(\u001b[0m\u001b[0msize\u001b[0m\u001b[1;33m=\u001b[0m\u001b[1;33m(\u001b[0m\u001b[0mself\u001b[0m\u001b[1;33m.\u001b[0m\u001b[0mx\u001b[0m\u001b[1;33m.\u001b[0m\u001b[0mshape\u001b[0m\u001b[1;33m[\u001b[0m\u001b[1;36m0\u001b[0m\u001b[1;33m]\u001b[0m\u001b[1;33m,\u001b[0m \u001b[0mself\u001b[0m\u001b[1;33m.\u001b[0m\u001b[0mtarget_N\u001b[0m\u001b[1;33m,\u001b[0m \u001b[0mself\u001b[0m\u001b[1;33m.\u001b[0m\u001b[0mx\u001b[0m\u001b[1;33m.\u001b[0m\u001b[0mshape\u001b[0m\u001b[1;33m[\u001b[0m\u001b[1;36m2\u001b[0m\u001b[1;33m]\u001b[0m\u001b[1;33m)\u001b[0m\u001b[1;33m)\u001b[0m \u001b[1;31m# learnable similar to weights\u001b[0m\u001b[1;33m\u001b[0m\u001b[1;33m\u001b[0m\u001b[0m\n\u001b[0;32m    380\u001b[0m \u001b[1;33m\u001b[0m\u001b[0m\n\u001b[1;32m--> 381\u001b[1;33m                 \u001b[0mpred_dict\u001b[0m\u001b[1;33m[\u001b[0m\u001b[0mdecoder\u001b[0m\u001b[1;33m[\u001b[0m\u001b[0mi\u001b[0m\u001b[1;33m]\u001b[0m\u001b[1;33m]\u001b[0m \u001b[1;33m=\u001b[0m \u001b[0mself\u001b[0m\u001b[1;33m.\u001b[0m\u001b[0mforward\u001b[0m\u001b[1;33m(\u001b[0m\u001b[1;33m)\u001b[0m\u001b[1;33m\u001b[0m\u001b[1;33m\u001b[0m\u001b[0m\n\u001b[0m\u001b[0;32m    382\u001b[0m                 \u001b[0mself\u001b[0m\u001b[1;33m.\u001b[0m\u001b[0mbackward\u001b[0m\u001b[1;33m(\u001b[0m\u001b[0mpred_dict\u001b[0m\u001b[1;33m)\u001b[0m\u001b[1;33m\u001b[0m\u001b[1;33m\u001b[0m\u001b[0m\n\u001b[0;32m    383\u001b[0m                 \u001b[0mself\u001b[0m\u001b[1;33m.\u001b[0m\u001b[0mcost\u001b[0m\u001b[1;33m(\u001b[0m\u001b[1;33m)\u001b[0m\u001b[1;33m\u001b[0m\u001b[1;33m\u001b[0m\u001b[0m\n",
      "\u001b[1;32m<ipython-input-55-ee2c6de1ad7e>\u001b[0m in \u001b[0;36mforward\u001b[1;34m(self)\u001b[0m\n\u001b[0;32m    190\u001b[0m         \u001b[1;31m# init values for forward\u001b[0m\u001b[1;33m\u001b[0m\u001b[1;33m\u001b[0m\u001b[1;33m\u001b[0m\u001b[0m\n\u001b[0;32m    191\u001b[0m         \u001b[0mSU_N\u001b[0m \u001b[1;33m=\u001b[0m \u001b[0mself\u001b[0m\u001b[1;33m.\u001b[0m\u001b[0mdriver_for_SUG\u001b[0m\u001b[1;33m(\u001b[0m\u001b[1;33m)\u001b[0m\u001b[1;33m\u001b[0m\u001b[1;33m\u001b[0m\u001b[0m\n\u001b[1;32m--> 192\u001b[1;33m         \u001b[0mket_x\u001b[0m \u001b[1;33m=\u001b[0m \u001b[0mself\u001b[0m\u001b[1;33m.\u001b[0m\u001b[0mquNit\u001b[0m\u001b[1;33m(\u001b[0m\u001b[1;33m)\u001b[0m\u001b[1;33m\u001b[0m\u001b[1;33m\u001b[0m\u001b[0m\n\u001b[0m\u001b[0;32m    193\u001b[0m \u001b[1;33m\u001b[0m\u001b[0m\n\u001b[0;32m    194\u001b[0m \u001b[1;33m\u001b[0m\u001b[0m\n",
      "\u001b[1;32m<ipython-input-55-ee2c6de1ad7e>\u001b[0m in \u001b[0;36mquNit\u001b[1;34m(self)\u001b[0m\n\u001b[0;32m     94\u001b[0m         \u001b[1;31m# print(\"weights = \", sum_of_weights.shape)\u001b[0m\u001b[1;33m\u001b[0m\u001b[1;33m\u001b[0m\u001b[1;33m\u001b[0m\u001b[0m\n\u001b[0;32m     95\u001b[0m \u001b[1;33m\u001b[0m\u001b[0m\n\u001b[1;32m---> 96\u001b[1;33m         \u001b[0mqn\u001b[0m \u001b[1;33m=\u001b[0m \u001b[0mZ\u001b[0m \u001b[1;33m@\u001b[0m \u001b[1;33m(\u001b[0m\u001b[0msum_of_weights\u001b[0m \u001b[1;33m@\u001b[0m \u001b[0mself\u001b[0m\u001b[1;33m.\u001b[0m\u001b[0mH\u001b[0m\u001b[1;33m(\u001b[0m\u001b[1;33m)\u001b[0m\u001b[1;33m)\u001b[0m\u001b[1;33m.\u001b[0m\u001b[0mT\u001b[0m\u001b[1;33m\u001b[0m\u001b[1;33m\u001b[0m\u001b[0m\n\u001b[0m\u001b[0;32m     97\u001b[0m         \u001b[1;31m# print(\"QN shape = \", qn.shape)\u001b[0m\u001b[1;33m\u001b[0m\u001b[1;33m\u001b[0m\u001b[1;33m\u001b[0m\u001b[0m\n\u001b[0;32m     98\u001b[0m         \u001b[1;32mreturn\u001b[0m \u001b[0mqn\u001b[0m \u001b[1;31m# init state should be 0\u001b[0m\u001b[1;33m\u001b[0m\u001b[1;33m\u001b[0m\u001b[0m\n",
      "\u001b[1;32mc:\\users\\jcook\\anaconda3\\envs\\tf-gpu\\lib\\site-packages\\qiskit\\aqua\\operators\\operator_base.py\u001b[0m in \u001b[0;36m__add__\u001b[1;34m(self, other)\u001b[0m\n\u001b[0;32m    168\u001b[0m             \u001b[1;32mreturn\u001b[0m \u001b[0mself\u001b[0m\u001b[1;33m\u001b[0m\u001b[1;33m\u001b[0m\u001b[0m\n\u001b[0;32m    169\u001b[0m \u001b[1;33m\u001b[0m\u001b[0m\n\u001b[1;32m--> 170\u001b[1;33m         \u001b[1;32mreturn\u001b[0m \u001b[0mself\u001b[0m\u001b[1;33m.\u001b[0m\u001b[0madd\u001b[0m\u001b[1;33m(\u001b[0m\u001b[0mother\u001b[0m\u001b[1;33m)\u001b[0m\u001b[1;33m\u001b[0m\u001b[1;33m\u001b[0m\u001b[0m\n\u001b[0m\u001b[0;32m    171\u001b[0m \u001b[1;33m\u001b[0m\u001b[0m\n\u001b[0;32m    172\u001b[0m     \u001b[1;32mdef\u001b[0m \u001b[0m__radd__\u001b[0m\u001b[1;33m(\u001b[0m\u001b[0mself\u001b[0m\u001b[1;33m,\u001b[0m \u001b[0mother\u001b[0m\u001b[1;33m:\u001b[0m \u001b[1;34m'OperatorBase'\u001b[0m\u001b[1;33m)\u001b[0m \u001b[1;33m->\u001b[0m \u001b[1;34m'OperatorBase'\u001b[0m\u001b[1;33m:\u001b[0m\u001b[1;33m\u001b[0m\u001b[1;33m\u001b[0m\u001b[0m\n",
      "\u001b[1;32mc:\\users\\jcook\\anaconda3\\envs\\tf-gpu\\lib\\site-packages\\qiskit\\aqua\\operators\\primitive_ops\\circuit_op.py\u001b[0m in \u001b[0;36madd\u001b[1;34m(self, other)\u001b[0m\n\u001b[0;32m     74\u001b[0m                 'defined'.format(self.num_qubits, other.num_qubits))\n\u001b[0;32m     75\u001b[0m \u001b[1;33m\u001b[0m\u001b[0m\n\u001b[1;32m---> 76\u001b[1;33m         \u001b[1;32mif\u001b[0m \u001b[0misinstance\u001b[0m\u001b[1;33m(\u001b[0m\u001b[0mother\u001b[0m\u001b[1;33m,\u001b[0m \u001b[0mCircuitOp\u001b[0m\u001b[1;33m)\u001b[0m \u001b[1;32mand\u001b[0m \u001b[0mself\u001b[0m\u001b[1;33m.\u001b[0m\u001b[0mprimitive\u001b[0m \u001b[1;33m==\u001b[0m \u001b[0mother\u001b[0m\u001b[1;33m.\u001b[0m\u001b[0mprimitive\u001b[0m\u001b[1;33m:\u001b[0m\u001b[1;33m\u001b[0m\u001b[1;33m\u001b[0m\u001b[0m\n\u001b[0m\u001b[0;32m     77\u001b[0m             \u001b[1;32mreturn\u001b[0m \u001b[0mCircuitOp\u001b[0m\u001b[1;33m(\u001b[0m\u001b[0mself\u001b[0m\u001b[1;33m.\u001b[0m\u001b[0mprimitive\u001b[0m\u001b[1;33m,\u001b[0m \u001b[0mcoeff\u001b[0m\u001b[1;33m=\u001b[0m\u001b[0mself\u001b[0m\u001b[1;33m.\u001b[0m\u001b[0mcoeff\u001b[0m \u001b[1;33m+\u001b[0m \u001b[0mother\u001b[0m\u001b[1;33m.\u001b[0m\u001b[0mcoeff\u001b[0m\u001b[1;33m)\u001b[0m\u001b[1;33m\u001b[0m\u001b[1;33m\u001b[0m\u001b[0m\n\u001b[0;32m     78\u001b[0m \u001b[1;33m\u001b[0m\u001b[0m\n",
      "\u001b[1;32mc:\\users\\jcook\\anaconda3\\envs\\tf-gpu\\lib\\site-packages\\qiskit\\circuit\\quantumcircuit.py\u001b[0m in \u001b[0;36m__eq__\u001b[1;34m(self, other)\u001b[0m\n\u001b[0;32m    245\u001b[0m         \u001b[1;31m# TODO: remove the DAG from this function\u001b[0m\u001b[1;33m\u001b[0m\u001b[1;33m\u001b[0m\u001b[1;33m\u001b[0m\u001b[0m\n\u001b[0;32m    246\u001b[0m         \u001b[1;32mfrom\u001b[0m \u001b[0mqiskit\u001b[0m\u001b[1;33m.\u001b[0m\u001b[0mconverters\u001b[0m \u001b[1;32mimport\u001b[0m \u001b[0mcircuit_to_dag\u001b[0m\u001b[1;33m\u001b[0m\u001b[1;33m\u001b[0m\u001b[0m\n\u001b[1;32m--> 247\u001b[1;33m         \u001b[1;32mreturn\u001b[0m \u001b[0mcircuit_to_dag\u001b[0m\u001b[1;33m(\u001b[0m\u001b[0mself\u001b[0m\u001b[1;33m)\u001b[0m \u001b[1;33m==\u001b[0m \u001b[0mcircuit_to_dag\u001b[0m\u001b[1;33m(\u001b[0m\u001b[0mother\u001b[0m\u001b[1;33m)\u001b[0m\u001b[1;33m\u001b[0m\u001b[1;33m\u001b[0m\u001b[0m\n\u001b[0m\u001b[0;32m    248\u001b[0m \u001b[1;33m\u001b[0m\u001b[0m\n\u001b[0;32m    249\u001b[0m     \u001b[1;33m@\u001b[0m\u001b[0mclassmethod\u001b[0m\u001b[1;33m\u001b[0m\u001b[1;33m\u001b[0m\u001b[0m\n",
      "\u001b[1;32mc:\\users\\jcook\\anaconda3\\envs\\tf-gpu\\lib\\site-packages\\qiskit\\dagcircuit\\dagcircuit.py\u001b[0m in \u001b[0;36m__eq__\u001b[1;34m(self, other)\u001b[0m\n\u001b[0;32m    853\u001b[0m \u001b[1;33m\u001b[0m\u001b[0m\n\u001b[0;32m    854\u001b[0m     \u001b[1;32mdef\u001b[0m \u001b[0m__eq__\u001b[0m\u001b[1;33m(\u001b[0m\u001b[0mself\u001b[0m\u001b[1;33m,\u001b[0m \u001b[0mother\u001b[0m\u001b[1;33m)\u001b[0m\u001b[1;33m:\u001b[0m\u001b[1;33m\u001b[0m\u001b[1;33m\u001b[0m\u001b[0m\n\u001b[1;32m--> 855\u001b[1;33m         return rx.is_isomorphic_node_match(self._multi_graph,\n\u001b[0m\u001b[0;32m    856\u001b[0m                                            \u001b[0mother\u001b[0m\u001b[1;33m.\u001b[0m\u001b[0m_multi_graph\u001b[0m\u001b[1;33m,\u001b[0m\u001b[1;33m\u001b[0m\u001b[1;33m\u001b[0m\u001b[0m\n\u001b[0;32m    857\u001b[0m                                            DAGNode.semantic_eq)\n",
      "\u001b[1;32mc:\\users\\jcook\\anaconda3\\envs\\tf-gpu\\lib\\site-packages\\qiskit\\dagcircuit\\dagnode.py\u001b[0m in \u001b[0;36msemantic_eq\u001b[1;34m(node1, node2)\u001b[0m\n\u001b[0;32m    119\u001b[0m         \u001b[0mresult\u001b[0m \u001b[1;33m=\u001b[0m \u001b[1;32mFalse\u001b[0m\u001b[1;33m\u001b[0m\u001b[1;33m\u001b[0m\u001b[0m\n\u001b[0;32m    120\u001b[0m         \u001b[1;32mif\u001b[0m \u001b[0mnode1\u001b[0m\u001b[1;33m.\u001b[0m\u001b[0mtype\u001b[0m \u001b[1;33m==\u001b[0m \u001b[0mnode2\u001b[0m\u001b[1;33m.\u001b[0m\u001b[0mtype\u001b[0m\u001b[1;33m:\u001b[0m\u001b[1;33m\u001b[0m\u001b[1;33m\u001b[0m\u001b[0m\n\u001b[1;32m--> 121\u001b[1;33m             \u001b[1;32mif\u001b[0m \u001b[0mnode1\u001b[0m\u001b[1;33m.\u001b[0m\u001b[0m_op\u001b[0m \u001b[1;33m==\u001b[0m \u001b[0mnode2\u001b[0m\u001b[1;33m.\u001b[0m\u001b[0m_op\u001b[0m\u001b[1;33m:\u001b[0m\u001b[1;33m\u001b[0m\u001b[1;33m\u001b[0m\u001b[0m\n\u001b[0m\u001b[0;32m    122\u001b[0m                 \u001b[1;32mif\u001b[0m \u001b[0mnode1\u001b[0m\u001b[1;33m.\u001b[0m\u001b[0mname\u001b[0m \u001b[1;33m==\u001b[0m \u001b[0mnode2\u001b[0m\u001b[1;33m.\u001b[0m\u001b[0mname\u001b[0m\u001b[1;33m:\u001b[0m\u001b[1;33m\u001b[0m\u001b[1;33m\u001b[0m\u001b[0m\n\u001b[0;32m    123\u001b[0m                     \u001b[1;32mif\u001b[0m \u001b[0mnode1\u001b[0m\u001b[1;33m.\u001b[0m\u001b[0m_qargs\u001b[0m \u001b[1;33m==\u001b[0m \u001b[0mnode2\u001b[0m\u001b[1;33m.\u001b[0m\u001b[0m_qargs\u001b[0m\u001b[1;33m:\u001b[0m\u001b[1;33m\u001b[0m\u001b[1;33m\u001b[0m\u001b[0m\n",
      "\u001b[1;32mc:\\users\\jcook\\anaconda3\\envs\\tf-gpu\\lib\\site-packages\\qiskit\\circuit\\controlledgate.py\u001b[0m in \u001b[0;36m__eq__\u001b[1;34m(self, other)\u001b[0m\n\u001b[0;32m    218\u001b[0m                 \u001b[0mself\u001b[0m\u001b[1;33m.\u001b[0m\u001b[0mnum_ctrl_qubits\u001b[0m \u001b[1;33m==\u001b[0m \u001b[0mother\u001b[0m\u001b[1;33m.\u001b[0m\u001b[0mnum_ctrl_qubits\u001b[0m \u001b[1;32mand\u001b[0m\u001b[1;33m\u001b[0m\u001b[1;33m\u001b[0m\u001b[0m\n\u001b[0;32m    219\u001b[0m                 \u001b[0mself\u001b[0m\u001b[1;33m.\u001b[0m\u001b[0mctrl_state\u001b[0m \u001b[1;33m==\u001b[0m \u001b[0mother\u001b[0m\u001b[1;33m.\u001b[0m\u001b[0mctrl_state\u001b[0m \u001b[1;32mand\u001b[0m\u001b[1;33m\u001b[0m\u001b[1;33m\u001b[0m\u001b[0m\n\u001b[1;32m--> 220\u001b[1;33m                 \u001b[0mself\u001b[0m\u001b[1;33m.\u001b[0m\u001b[0mbase_gate\u001b[0m \u001b[1;33m==\u001b[0m \u001b[0mother\u001b[0m\u001b[1;33m.\u001b[0m\u001b[0mbase_gate\u001b[0m \u001b[1;32mand\u001b[0m\u001b[1;33m\u001b[0m\u001b[1;33m\u001b[0m\u001b[0m\n\u001b[0m\u001b[0;32m    221\u001b[0m                 \u001b[0mself\u001b[0m\u001b[1;33m.\u001b[0m\u001b[0mnum_qubits\u001b[0m \u001b[1;33m==\u001b[0m \u001b[0mother\u001b[0m\u001b[1;33m.\u001b[0m\u001b[0mnum_qubits\u001b[0m \u001b[1;32mand\u001b[0m\u001b[1;33m\u001b[0m\u001b[1;33m\u001b[0m\u001b[0m\n\u001b[0;32m    222\u001b[0m                 \u001b[0mself\u001b[0m\u001b[1;33m.\u001b[0m\u001b[0mnum_clbits\u001b[0m \u001b[1;33m==\u001b[0m \u001b[0mother\u001b[0m\u001b[1;33m.\u001b[0m\u001b[0mnum_clbits\u001b[0m \u001b[1;32mand\u001b[0m\u001b[1;33m\u001b[0m\u001b[1;33m\u001b[0m\u001b[0m\n",
      "\u001b[1;32mc:\\users\\jcook\\anaconda3\\envs\\tf-gpu\\lib\\site-packages\\qiskit\\circuit\\instruction.py\u001b[0m in \u001b[0;36m__eq__\u001b[1;34m(self, other)\u001b[0m\n\u001b[0;32m    101\u001b[0m                 \u001b[0mself\u001b[0m\u001b[1;33m.\u001b[0m\u001b[0mnum_qubits\u001b[0m \u001b[1;33m!=\u001b[0m \u001b[0mother\u001b[0m\u001b[1;33m.\u001b[0m\u001b[0mnum_qubits\u001b[0m \u001b[1;32mor\u001b[0m\u001b[0;31m \u001b[0m\u001b[0;31m\\\u001b[0m\u001b[1;33m\u001b[0m\u001b[1;33m\u001b[0m\u001b[0m\n\u001b[0;32m    102\u001b[0m                 \u001b[0mself\u001b[0m\u001b[1;33m.\u001b[0m\u001b[0mnum_clbits\u001b[0m \u001b[1;33m!=\u001b[0m \u001b[0mother\u001b[0m\u001b[1;33m.\u001b[0m\u001b[0mnum_clbits\u001b[0m \u001b[1;32mor\u001b[0m\u001b[0;31m \u001b[0m\u001b[0;31m\\\u001b[0m\u001b[1;33m\u001b[0m\u001b[1;33m\u001b[0m\u001b[0m\n\u001b[1;32m--> 103\u001b[1;33m                 \u001b[0mself\u001b[0m\u001b[1;33m.\u001b[0m\u001b[0mdefinition\u001b[0m \u001b[1;33m!=\u001b[0m \u001b[0mother\u001b[0m\u001b[1;33m.\u001b[0m\u001b[0mdefinition\u001b[0m\u001b[1;33m:\u001b[0m\u001b[1;33m\u001b[0m\u001b[1;33m\u001b[0m\u001b[0m\n\u001b[0m\u001b[0;32m    104\u001b[0m             \u001b[1;32mreturn\u001b[0m \u001b[1;32mFalse\u001b[0m\u001b[1;33m\u001b[0m\u001b[1;33m\u001b[0m\u001b[0m\n\u001b[0;32m    105\u001b[0m \u001b[1;33m\u001b[0m\u001b[0m\n",
      "\u001b[1;32mc:\\users\\jcook\\anaconda3\\envs\\tf-gpu\\lib\\site-packages\\qiskit\\circuit\\quantumcircuit.py\u001b[0m in \u001b[0;36m__eq__\u001b[1;34m(self, other)\u001b[0m\n\u001b[0;32m    245\u001b[0m         \u001b[1;31m# TODO: remove the DAG from this function\u001b[0m\u001b[1;33m\u001b[0m\u001b[1;33m\u001b[0m\u001b[1;33m\u001b[0m\u001b[0m\n\u001b[0;32m    246\u001b[0m         \u001b[1;32mfrom\u001b[0m \u001b[0mqiskit\u001b[0m\u001b[1;33m.\u001b[0m\u001b[0mconverters\u001b[0m \u001b[1;32mimport\u001b[0m \u001b[0mcircuit_to_dag\u001b[0m\u001b[1;33m\u001b[0m\u001b[1;33m\u001b[0m\u001b[0m\n\u001b[1;32m--> 247\u001b[1;33m         \u001b[1;32mreturn\u001b[0m \u001b[0mcircuit_to_dag\u001b[0m\u001b[1;33m(\u001b[0m\u001b[0mself\u001b[0m\u001b[1;33m)\u001b[0m \u001b[1;33m==\u001b[0m \u001b[0mcircuit_to_dag\u001b[0m\u001b[1;33m(\u001b[0m\u001b[0mother\u001b[0m\u001b[1;33m)\u001b[0m\u001b[1;33m\u001b[0m\u001b[1;33m\u001b[0m\u001b[0m\n\u001b[0m\u001b[0;32m    248\u001b[0m \u001b[1;33m\u001b[0m\u001b[0m\n\u001b[0;32m    249\u001b[0m     \u001b[1;33m@\u001b[0m\u001b[0mclassmethod\u001b[0m\u001b[1;33m\u001b[0m\u001b[1;33m\u001b[0m\u001b[0m\n",
      "\u001b[1;32mc:\\users\\jcook\\anaconda3\\envs\\tf-gpu\\lib\\site-packages\\qiskit\\converters\\circuit_to_dag.py\u001b[0m in \u001b[0;36mcircuit_to_dag\u001b[1;34m(circuit)\u001b[0m\n\u001b[0;32m     44\u001b[0m             \u001b[0mdag_drawer\u001b[0m\u001b[1;33m(\u001b[0m\u001b[0mdag\u001b[0m\u001b[1;33m)\u001b[0m\u001b[1;33m\u001b[0m\u001b[1;33m\u001b[0m\u001b[0m\n\u001b[0;32m     45\u001b[0m     \"\"\"\n\u001b[1;32m---> 46\u001b[1;33m     \u001b[0mdagcircuit\u001b[0m \u001b[1;33m=\u001b[0m \u001b[0mDAGCircuit\u001b[0m\u001b[1;33m(\u001b[0m\u001b[1;33m)\u001b[0m\u001b[1;33m\u001b[0m\u001b[1;33m\u001b[0m\u001b[0m\n\u001b[0m\u001b[0;32m     47\u001b[0m     \u001b[0mdagcircuit\u001b[0m\u001b[1;33m.\u001b[0m\u001b[0mname\u001b[0m \u001b[1;33m=\u001b[0m \u001b[0mcircuit\u001b[0m\u001b[1;33m.\u001b[0m\u001b[0mname\u001b[0m\u001b[1;33m\u001b[0m\u001b[1;33m\u001b[0m\u001b[0m\n\u001b[0;32m     48\u001b[0m     \u001b[0mdagcircuit\u001b[0m\u001b[1;33m.\u001b[0m\u001b[0mglobal_phase\u001b[0m \u001b[1;33m=\u001b[0m \u001b[0mcircuit\u001b[0m\u001b[1;33m.\u001b[0m\u001b[0mglobal_phase\u001b[0m\u001b[1;33m\u001b[0m\u001b[1;33m\u001b[0m\u001b[0m\n",
      "\u001b[1;32mc:\\users\\jcook\\anaconda3\\envs\\tf-gpu\\lib\\site-packages\\qiskit\\dagcircuit\\dagcircuit.py\u001b[0m in \u001b[0;36m__init__\u001b[1;34m(self)\u001b[0m\n\u001b[0;32m     89\u001b[0m                               stacklevel=2)\n\u001b[0;32m     90\u001b[0m                 \u001b[1;32mreturn\u001b[0m \u001b[0mself\u001b[0m\u001b[1;33m\u001b[0m\u001b[1;33m\u001b[0m\u001b[0m\n\u001b[1;32m---> 91\u001b[1;33m         \u001b[0mself\u001b[0m\u001b[1;33m.\u001b[0m\u001b[0m_qubits\u001b[0m \u001b[1;33m=\u001b[0m \u001b[0mDummyCallableList\u001b[0m\u001b[1;33m(\u001b[0m\u001b[1;33m)\u001b[0m  \u001b[1;31m# TODO: make these a regular empty list [] after the\u001b[0m\u001b[1;33m\u001b[0m\u001b[1;33m\u001b[0m\u001b[0m\n\u001b[0m\u001b[0;32m     92\u001b[0m         \u001b[0mself\u001b[0m\u001b[1;33m.\u001b[0m\u001b[0m_clbits\u001b[0m \u001b[1;33m=\u001b[0m \u001b[0mDummyCallableList\u001b[0m\u001b[1;33m(\u001b[0m\u001b[1;33m)\u001b[0m  \u001b[1;31m# DeprecationWarning period, and remove name underscore.\u001b[0m\u001b[1;33m\u001b[0m\u001b[1;33m\u001b[0m\u001b[0m\n\u001b[0;32m     93\u001b[0m \u001b[1;33m\u001b[0m\u001b[0m\n",
      "\u001b[1;31mKeyboardInterrupt\u001b[0m: "
     ]
    }
   ],
   "source": [
    "%%time\n",
    "train.train()"
   ]
  },
  {
   "cell_type": "code",
   "execution_count": null,
   "id": "divided-track",
   "metadata": {},
   "outputs": [],
   "source": []
  },
  {
   "cell_type": "code",
   "execution_count": null,
   "id": "reasonable-mauritius",
   "metadata": {},
   "outputs": [],
   "source": []
  },
  {
   "cell_type": "code",
   "execution_count": null,
   "id": "suburban-college",
   "metadata": {},
   "outputs": [],
   "source": []
  }
 ],
 "metadata": {
  "kernelspec": {
   "display_name": "Python 3",
   "language": "python",
   "name": "python3"
  },
  "language_info": {
   "codemirror_mode": {
    "name": "ipython",
    "version": 3
   },
   "file_extension": ".py",
   "mimetype": "text/x-python",
   "name": "python",
   "nbconvert_exporter": "python",
   "pygments_lexer": "ipython3",
   "version": "3.8.8"
  }
 },
 "nbformat": 4,
 "nbformat_minor": 5
}
